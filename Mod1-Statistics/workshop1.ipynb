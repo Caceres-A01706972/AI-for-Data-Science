{
  "cells": [
    {
      "cell_type": "markdown",
      "metadata": {
        "id": "XdLoRq5NMWYM"
      },
      "source": [
        "# Workshop 1 - Descriptive Statistics & Histogram\n"
      ]
    },
    {
      "cell_type": "markdown",
      "metadata": {
        "id": "OYTynkd5Mi5I"
      },
      "source": [
        "Ricardo Andrés Cáceres Villibord\n",
        "\n",
        "9 de Agosto del 2023\n",
        "\n",
        "*Complete Workshop Instructions can be found at: https://rpubs.com/cdorante/tc3006c_w1*"
      ]
    },
    {
      "cell_type": "markdown",
      "metadata": {},
      "source": [
        "---\n",
        "### ***Import de las librerias***"
      ]
    },
    {
      "cell_type": "code",
      "execution_count": 105,
      "metadata": {
        "id": "MhBOi0M-3qld"
      },
      "outputs": [],
      "source": [
        "#IMPORT THE \n",
        "import numpy as np\n",
        "import pandas as pd\n",
        "import yfinance as yf"
      ]
    },
    {
      "cell_type": "markdown",
      "metadata": {},
      "source": [
        "### ***Descarga los Daily prices de Bitcoin desde 2017***"
      ]
    },
    {
      "cell_type": "code",
      "execution_count": 106,
      "metadata": {
        "colab": {
          "base_uri": "https://localhost:8080/"
        },
        "id": "Y-BFEXVlckan",
        "outputId": "370c2b8c-e4ba-46bc-e66f-cb4b6078ce11"
      },
      "outputs": [
        {
          "name": "stdout",
          "output_type": "stream",
          "text": [
            "[*********************100%***********************]  1 of 1 completed\n"
          ]
        }
      ],
      "source": [
        "BTC=yf.download(tickers=\"BTC-USD\", start=\"2017-01-01\",interval=\"1d\")"
      ]
    },
    {
      "cell_type": "markdown",
      "metadata": {},
      "source": [
        "- **Show the content of the data**"
      ]
    },
    {
      "cell_type": "code",
      "execution_count": 107,
      "metadata": {
        "colab": {
          "base_uri": "https://localhost:8080/"
        },
        "id": "rLTHNEG5d7UW",
        "outputId": "989c1fa6-6002-41cb-9a25-66b6f4fb9b17"
      },
      "outputs": [
        {
          "name": "stdout",
          "output_type": "stream",
          "text": [
            "                    Open          High           Low         Close  \\\n",
            "Date                                                                 \n",
            "2017-01-01    963.658020   1003.080017    958.698975    998.325012   \n",
            "2017-01-02    998.617004   1031.390015    996.702026   1021.750000   \n",
            "2017-01-03   1021.599976   1044.079956   1021.599976   1043.839966   \n",
            "2017-01-04   1044.400024   1159.420044   1044.400024   1154.729980   \n",
            "2017-01-05   1156.729980   1191.099976    910.416992   1013.380005   \n",
            "...                  ...           ...           ...           ...   \n",
            "2023-08-11  29424.902344  29517.773438  29253.517578  29397.714844   \n",
            "2023-08-12  29399.787109  29465.113281  29357.587891  29415.964844   \n",
            "2023-08-13  29416.593750  29441.433594  29265.806641  29282.914062   \n",
            "2023-08-14  29283.263672  29660.253906  29124.105469  29408.443359   \n",
            "2023-08-15  29399.732422  29439.121094  29099.738281  29169.585938   \n",
            "\n",
            "               Adj Close       Volume  \n",
            "Date                                   \n",
            "2017-01-01    998.325012    147775008  \n",
            "2017-01-02   1021.750000    222184992  \n",
            "2017-01-03   1043.839966    185168000  \n",
            "2017-01-04   1154.729980    344945984  \n",
            "2017-01-05   1013.380005    510199008  \n",
            "...                  ...          ...  \n",
            "2023-08-11  29397.714844  10195168197  \n",
            "2023-08-12  29415.964844   6194358008  \n",
            "2023-08-13  29282.914062   7329897180  \n",
            "2023-08-14  29408.443359  14013695304  \n",
            "2023-08-15  29169.585938  11751614464  \n",
            "\n",
            "[2418 rows x 6 columns]\n"
          ]
        }
      ],
      "source": [
        "print(BTC)"
      ]
    },
    {
      "cell_type": "markdown",
      "metadata": {},
      "source": [
        "- ***Show the last quotations***"
      ]
    },
    {
      "cell_type": "code",
      "execution_count": 108,
      "metadata": {
        "colab": {
          "base_uri": "https://localhost:8080/",
          "height": 237
        },
        "id": "kod_prALeONs",
        "outputId": "2f1ef89a-07b9-48d5-cfad-71a8d5b289ec"
      },
      "outputs": [
        {
          "data": {
            "text/html": [
              "<div>\n",
              "<style scoped>\n",
              "    .dataframe tbody tr th:only-of-type {\n",
              "        vertical-align: middle;\n",
              "    }\n",
              "\n",
              "    .dataframe tbody tr th {\n",
              "        vertical-align: top;\n",
              "    }\n",
              "\n",
              "    .dataframe thead th {\n",
              "        text-align: right;\n",
              "    }\n",
              "</style>\n",
              "<table border=\"1\" class=\"dataframe\">\n",
              "  <thead>\n",
              "    <tr style=\"text-align: right;\">\n",
              "      <th></th>\n",
              "      <th>Open</th>\n",
              "      <th>High</th>\n",
              "      <th>Low</th>\n",
              "      <th>Close</th>\n",
              "      <th>Adj Close</th>\n",
              "      <th>Volume</th>\n",
              "    </tr>\n",
              "    <tr>\n",
              "      <th>Date</th>\n",
              "      <th></th>\n",
              "      <th></th>\n",
              "      <th></th>\n",
              "      <th></th>\n",
              "      <th></th>\n",
              "      <th></th>\n",
              "    </tr>\n",
              "  </thead>\n",
              "  <tbody>\n",
              "    <tr>\n",
              "      <th>2023-08-11</th>\n",
              "      <td>29424.902344</td>\n",
              "      <td>29517.773438</td>\n",
              "      <td>29253.517578</td>\n",
              "      <td>29397.714844</td>\n",
              "      <td>29397.714844</td>\n",
              "      <td>10195168197</td>\n",
              "    </tr>\n",
              "    <tr>\n",
              "      <th>2023-08-12</th>\n",
              "      <td>29399.787109</td>\n",
              "      <td>29465.113281</td>\n",
              "      <td>29357.587891</td>\n",
              "      <td>29415.964844</td>\n",
              "      <td>29415.964844</td>\n",
              "      <td>6194358008</td>\n",
              "    </tr>\n",
              "    <tr>\n",
              "      <th>2023-08-13</th>\n",
              "      <td>29416.593750</td>\n",
              "      <td>29441.433594</td>\n",
              "      <td>29265.806641</td>\n",
              "      <td>29282.914062</td>\n",
              "      <td>29282.914062</td>\n",
              "      <td>7329897180</td>\n",
              "    </tr>\n",
              "    <tr>\n",
              "      <th>2023-08-14</th>\n",
              "      <td>29283.263672</td>\n",
              "      <td>29660.253906</td>\n",
              "      <td>29124.105469</td>\n",
              "      <td>29408.443359</td>\n",
              "      <td>29408.443359</td>\n",
              "      <td>14013695304</td>\n",
              "    </tr>\n",
              "    <tr>\n",
              "      <th>2023-08-15</th>\n",
              "      <td>29399.732422</td>\n",
              "      <td>29439.121094</td>\n",
              "      <td>29099.738281</td>\n",
              "      <td>29169.585938</td>\n",
              "      <td>29169.585938</td>\n",
              "      <td>11751614464</td>\n",
              "    </tr>\n",
              "  </tbody>\n",
              "</table>\n",
              "</div>"
            ],
            "text/plain": [
              "                    Open          High           Low         Close  \\\n",
              "Date                                                                 \n",
              "2023-08-11  29424.902344  29517.773438  29253.517578  29397.714844   \n",
              "2023-08-12  29399.787109  29465.113281  29357.587891  29415.964844   \n",
              "2023-08-13  29416.593750  29441.433594  29265.806641  29282.914062   \n",
              "2023-08-14  29283.263672  29660.253906  29124.105469  29408.443359   \n",
              "2023-08-15  29399.732422  29439.121094  29099.738281  29169.585938   \n",
              "\n",
              "               Adj Close       Volume  \n",
              "Date                                   \n",
              "2023-08-11  29397.714844  10195168197  \n",
              "2023-08-12  29415.964844   6194358008  \n",
              "2023-08-13  29282.914062   7329897180  \n",
              "2023-08-14  29408.443359  14013695304  \n",
              "2023-08-15  29169.585938  11751614464  "
            ]
          },
          "execution_count": 108,
          "metadata": {},
          "output_type": "execute_result"
        }
      ],
      "source": [
        "BTC.tail()"
      ]
    },
    {
      "cell_type": "markdown",
      "metadata": {},
      "source": [
        "### ***Import the matplotlib and do a plot for the Bitcoin closign prices***"
      ]
    },
    {
      "cell_type": "code",
      "execution_count": 109,
      "metadata": {
        "colab": {
          "base_uri": "https://localhost:8080/",
          "height": 430
        },
        "id": "YiGGiJE-eT8u",
        "outputId": "d16dd043-7f88-4823-8b35-cb3f16297a3d"
      },
      "outputs": [
        {
          "data": {
            "image/png": "[encoded data removed]",
            "text/plain": [
              "<Figure size 640x480 with 1 Axes>"
            ]
          },
          "metadata": {},
          "output_type": "display_data"
        }
      ],
      "source": [
        "import matplotlib\n",
        "from matplotlib.pyplot import *\n",
        "plot(BTC[\"Adj Close\"])\n",
        "show()"
      ]
    },
    {
      "cell_type": "markdown",
      "metadata": {},
      "source": [
        "- ***We can check the data types of each variable (column) in the dataset***"
      ]
    },
    {
      "cell_type": "code",
      "execution_count": 110,
      "metadata": {
        "colab": {
          "base_uri": "https://localhost:8080/"
        },
        "id": "V1bGQoMSftHR",
        "outputId": "d039a650-9c17-437e-a4a7-995776a27a43"
      },
      "outputs": [
        {
          "name": "stdout",
          "output_type": "stream",
          "text": [
            "<class 'pandas.core.frame.DataFrame'>\n",
            "DatetimeIndex: 2418 entries, 2017-01-01 to 2023-08-15\n",
            "Data columns (total 6 columns):\n",
            " #   Column     Non-Null Count  Dtype  \n",
            "---  ------     --------------  -----  \n",
            " 0   Open       2418 non-null   float64\n",
            " 1   High       2418 non-null   float64\n",
            " 2   Low        2418 non-null   float64\n",
            " 3   Close      2418 non-null   float64\n",
            " 4   Adj Close  2418 non-null   float64\n",
            " 5   Volume     2418 non-null   int64  \n",
            "dtypes: float64(5), int64(1)\n",
            "memory usage: 132.2 KB\n"
          ]
        }
      ],
      "source": [
        "BTC.info()"
      ]
    },
    {
      "cell_type": "markdown",
      "metadata": {},
      "source": [
        "### ***Promedio y std de la columna volumen***"
      ]
    },
    {
      "cell_type": "code",
      "execution_count": 111,
      "metadata": {
        "colab": {
          "base_uri": "https://localhost:8080/",
          "height": 521
        },
        "id": "u2R9hnmciQJy",
        "outputId": "3f051990-92f1-47cc-8fe5-1e4997228117"
      },
      "outputs": [
        {
          "name": "stdout",
          "output_type": "stream",
          "text": [
            "PROMEDIO VOLUMEN:  22227915902.868484\n",
            "STD Volumen:  19522888942.007263 \n",
            "\n"
          ]
        },
        {
          "data": {
            "text/plain": [
              "<AxesSubplot: >"
            ]
          },
          "execution_count": 111,
          "metadata": {},
          "output_type": "execute_result"
        },
        {
          "data": {
            "image/png": "[encoded data removed]",
            "text/plain": [
              "<Figure size 640x480 with 1 Axes>"
            ]
          },
          "metadata": {},
          "output_type": "display_data"
        }
      ],
      "source": [
        "#promedio y std de la columna volumen\n",
        "promedio_volumen = BTC[\"Volume\"].mean()\n",
        "std_volumen = BTC[\"Volume\"].std()\n",
        "print(\"PROMEDIO VOLUMEN: \",promedio_volumen)\n",
        "print(\"STD Volumen: \", std_volumen, \"\\n\")\n",
        "\n",
        "#histogram\n",
        "BTC[\"Volume\"].hist()"
      ]
    },
    {
      "cell_type": "markdown",
      "metadata": {},
      "source": [
        "### ***In Python we can get the previous value of a variable using the shift(n) function. This function works for Panda dataframes. Then we can calculate a new column for the simple returns of Bitcoin as follows:***"
      ]
    },
    {
      "cell_type": "code",
      "execution_count": 112,
      "metadata": {
        "colab": {
          "base_uri": "https://localhost:8080/"
        },
        "id": "I31aDmkwgCLR",
        "outputId": "aac0acb4-3d0c-4127-ae7c-e69573704fb8"
      },
      "outputs": [
        {
          "name": "stdout",
          "output_type": "stream",
          "text": [
            "                    Open          High           Low         Close  \\\n",
            "Date                                                                 \n",
            "2017-01-01    963.658020   1003.080017    958.698975    998.325012   \n",
            "2017-01-02    998.617004   1031.390015    996.702026   1021.750000   \n",
            "2017-01-03   1021.599976   1044.079956   1021.599976   1043.839966   \n",
            "2017-01-04   1044.400024   1159.420044   1044.400024   1154.729980   \n",
            "2017-01-05   1156.729980   1191.099976    910.416992   1013.380005   \n",
            "...                  ...           ...           ...           ...   \n",
            "2023-08-11  29424.902344  29517.773438  29253.517578  29397.714844   \n",
            "2023-08-12  29399.787109  29465.113281  29357.587891  29415.964844   \n",
            "2023-08-13  29416.593750  29441.433594  29265.806641  29282.914062   \n",
            "2023-08-14  29283.263672  29660.253906  29124.105469  29408.443359   \n",
            "2023-08-15  29399.732422  29439.121094  29099.738281  29169.585938   \n",
            "\n",
            "               Adj Close       Volume    Return  \n",
            "Date                                             \n",
            "2017-01-01    998.325012    147775008       NaN  \n",
            "2017-01-02   1021.750000    222184992  0.023464  \n",
            "2017-01-03   1043.839966    185168000  0.021620  \n",
            "2017-01-04   1154.729980    344945984  0.106233  \n",
            "2017-01-05   1013.380005    510199008 -0.122410  \n",
            "...                  ...          ...       ...  \n",
            "2023-08-11  29397.714844  10195168197 -0.001083  \n",
            "2023-08-12  29415.964844   6194358008  0.000621  \n",
            "2023-08-13  29282.914062   7329897180 -0.004523  \n",
            "2023-08-14  29408.443359  14013695304  0.004287  \n",
            "2023-08-15  29169.585938  11751614464 -0.008122  \n",
            "\n",
            "[2418 rows x 7 columns]\n"
          ]
        }
      ],
      "source": [
        "BTC[\"Return\"] = (BTC[\"Adj Close\"] / BTC[\"Adj Close\"].shift(1)) - 1\n",
        "print(BTC)"
      ]
    },
    {
      "cell_type": "markdown",
      "metadata": {},
      "source": [
        "### ***Now we calculate cc returns in a new column using the shift function:***"
      ]
    },
    {
      "cell_type": "code",
      "execution_count": 113,
      "metadata": {
        "id": "plV9Oc4hg5mM"
      },
      "outputs": [],
      "source": [
        "BTC[\"r\"] = np.log(BTC['Adj Close']) - np.log(BTC['Adj Close'].shift(1))\n",
        "BTCR = BTC[['Return','r']].copy()"
      ]
    },
    {
      "cell_type": "markdown",
      "metadata": {},
      "source": [
        "### ***We have a null value for the first day since we cannot calculate returns for day 1. We can drop the rows with NA values to ease data calculations:***"
      ]
    },
    {
      "cell_type": "code",
      "execution_count": 114,
      "metadata": {
        "id": "glhB-RS1hGNm"
      },
      "outputs": [],
      "source": [
        "BTCR= BTCR.dropna()"
      ]
    },
    {
      "cell_type": "markdown",
      "metadata": {},
      "source": [
        "### ***We can use the describe function applied to the r column as follows:***"
      ]
    },
    {
      "cell_type": "code",
      "execution_count": 115,
      "metadata": {
        "colab": {
          "base_uri": "https://localhost:8080/"
        },
        "id": "YKnpkm7EhKTE",
        "outputId": "6875dc84-0564-414f-d91c-f0a405414aa0"
      },
      "outputs": [
        {
          "data": {
            "text/plain": [
              "count    2417.000000\n",
              "mean        0.002179\n",
              "std         0.039386\n",
              "min        -0.371695\n",
              "25%        -0.014606\n",
              "50%         0.001470\n",
              "75%         0.018931\n",
              "max         0.252472\n",
              "Name: Return, dtype: float64"
            ]
          },
          "execution_count": 115,
          "metadata": {},
          "output_type": "execute_result"
        }
      ],
      "source": [
        "sumret = BTC[\"Return\"].describe()\n",
        "sumret"
      ]
    },
    {
      "cell_type": "markdown",
      "metadata": {},
      "source": [
        "### ***To know which days were the worse, we can do a selection based on a condition. Let’s see which days had a daily return less than 15%:***"
      ]
    },
    {
      "cell_type": "code",
      "execution_count": 116,
      "metadata": {
        "colab": {
          "base_uri": "https://localhost:8080/",
          "height": 488
        },
        "id": "WEfcy8ZdhXok",
        "outputId": "67d633bf-1f4a-42df-bf5d-d9406ffdf993"
      },
      "outputs": [
        {
          "data": {
            "text/html": [
              "<div>\n",
              "<style scoped>\n",
              "    .dataframe tbody tr th:only-of-type {\n",
              "        vertical-align: middle;\n",
              "    }\n",
              "\n",
              "    .dataframe tbody tr th {\n",
              "        vertical-align: top;\n",
              "    }\n",
              "\n",
              "    .dataframe thead th {\n",
              "        text-align: right;\n",
              "    }\n",
              "</style>\n",
              "<table border=\"1\" class=\"dataframe\">\n",
              "  <thead>\n",
              "    <tr style=\"text-align: right;\">\n",
              "      <th></th>\n",
              "      <th>Return</th>\n",
              "      <th>r</th>\n",
              "    </tr>\n",
              "    <tr>\n",
              "      <th>Date</th>\n",
              "      <th></th>\n",
              "      <th></th>\n",
              "    </tr>\n",
              "  </thead>\n",
              "  <tbody>\n",
              "    <tr>\n",
              "      <th>2017-09-14</th>\n",
              "      <td>-0.187411</td>\n",
              "      <td>-0.207530</td>\n",
              "    </tr>\n",
              "    <tr>\n",
              "      <th>2018-01-16</th>\n",
              "      <td>-0.168548</td>\n",
              "      <td>-0.184582</td>\n",
              "    </tr>\n",
              "    <tr>\n",
              "      <th>2018-02-05</th>\n",
              "      <td>-0.159688</td>\n",
              "      <td>-0.173982</td>\n",
              "    </tr>\n",
              "    <tr>\n",
              "      <th>2020-03-12</th>\n",
              "      <td>-0.371695</td>\n",
              "      <td>-0.464730</td>\n",
              "    </tr>\n",
              "    <tr>\n",
              "      <th>2022-06-13</th>\n",
              "      <td>-0.159747</td>\n",
              "      <td>-0.174053</td>\n",
              "    </tr>\n",
              "  </tbody>\n",
              "</table>\n",
              "</div>"
            ],
            "text/plain": [
              "              Return         r\n",
              "Date                          \n",
              "2017-09-14 -0.187411 -0.207530\n",
              "2018-01-16 -0.168548 -0.184582\n",
              "2018-02-05 -0.159688 -0.173982\n",
              "2020-03-12 -0.371695 -0.464730\n",
              "2022-06-13 -0.159747 -0.174053"
            ]
          },
          "execution_count": 116,
          "metadata": {},
          "output_type": "execute_result"
        }
      ],
      "source": [
        "#Worst days\n",
        "BTCR[BTCR[\"Return\"]<-0.15]"
      ]
    },
    {
      "cell_type": "markdown",
      "metadata": {},
      "source": [
        "### ***To know the best days for Bitcoin:***"
      ]
    },
    {
      "cell_type": "code",
      "execution_count": 117,
      "metadata": {
        "colab": {
          "base_uri": "https://localhost:8080/",
          "height": 896
        },
        "id": "mt_tp1x5hlg0",
        "outputId": "8016922c-f95d-4cfc-97a1-ef6400f4f3c0"
      },
      "outputs": [
        {
          "data": {
            "text/html": [
              "<div>\n",
              "<style scoped>\n",
              "    .dataframe tbody tr th:only-of-type {\n",
              "        vertical-align: middle;\n",
              "    }\n",
              "\n",
              "    .dataframe tbody tr th {\n",
              "        vertical-align: top;\n",
              "    }\n",
              "\n",
              "    .dataframe thead th {\n",
              "        text-align: right;\n",
              "    }\n",
              "</style>\n",
              "<table border=\"1\" class=\"dataframe\">\n",
              "  <thead>\n",
              "    <tr style=\"text-align: right;\">\n",
              "      <th></th>\n",
              "      <th>Return</th>\n",
              "      <th>r</th>\n",
              "    </tr>\n",
              "    <tr>\n",
              "      <th>Date</th>\n",
              "      <th></th>\n",
              "      <th></th>\n",
              "    </tr>\n",
              "  </thead>\n",
              "  <tbody>\n",
              "    <tr>\n",
              "      <th>2017-12-07</th>\n",
              "      <td>0.252472</td>\n",
              "      <td>0.225119</td>\n",
              "    </tr>\n",
              "    <tr>\n",
              "      <th>2017-07-20</th>\n",
              "      <td>0.239361</td>\n",
              "      <td>0.214596</td>\n",
              "    </tr>\n",
              "    <tr>\n",
              "      <th>2017-12-06</th>\n",
              "      <td>0.199283</td>\n",
              "      <td>0.181724</td>\n",
              "    </tr>\n",
              "    <tr>\n",
              "      <th>2021-02-08</th>\n",
              "      <td>0.187465</td>\n",
              "      <td>0.171821</td>\n",
              "    </tr>\n",
              "    <tr>\n",
              "      <th>2020-03-19</th>\n",
              "      <td>0.181878</td>\n",
              "      <td>0.167104</td>\n",
              "    </tr>\n",
              "    <tr>\n",
              "      <th>2019-04-02</th>\n",
              "      <td>0.173560</td>\n",
              "      <td>0.160042</td>\n",
              "    </tr>\n",
              "    <tr>\n",
              "      <th>2019-10-25</th>\n",
              "      <td>0.155763</td>\n",
              "      <td>0.144761</td>\n",
              "    </tr>\n",
              "    <tr>\n",
              "      <th>2017-07-17</th>\n",
              "      <td>0.154724</td>\n",
              "      <td>0.143862</td>\n",
              "    </tr>\n",
              "    <tr>\n",
              "      <th>2017-09-15</th>\n",
              "      <td>0.152956</td>\n",
              "      <td>0.142330</td>\n",
              "    </tr>\n",
              "  </tbody>\n",
              "</table>\n",
              "</div>"
            ],
            "text/plain": [
              "              Return         r\n",
              "Date                          \n",
              "2017-12-07  0.252472  0.225119\n",
              "2017-07-20  0.239361  0.214596\n",
              "2017-12-06  0.199283  0.181724\n",
              "2021-02-08  0.187465  0.171821\n",
              "2020-03-19  0.181878  0.167104\n",
              "2019-04-02  0.173560  0.160042\n",
              "2019-10-25  0.155763  0.144761\n",
              "2017-07-17  0.154724  0.143862\n",
              "2017-09-15  0.152956  0.142330"
            ]
          },
          "execution_count": 117,
          "metadata": {},
          "output_type": "execute_result"
        }
      ],
      "source": [
        "#Best Days\n",
        "BTCR[BTCR[\"Return\"]>0.15].sort_values(by=['Return'], ascending=False)"
      ]
    },
    {
      "cell_type": "markdown",
      "metadata": {},
      "source": [
        "### ***We can also get the main descriptive statistics using specific functions like:***"
      ]
    },
    {
      "cell_type": "code",
      "execution_count": 118,
      "metadata": {
        "colab": {
          "base_uri": "https://localhost:8080/"
        },
        "id": "df73sfXShs4f",
        "outputId": "36baae11-7319-43e2-8033-656faca1c7f9"
      },
      "outputs": [
        {
          "name": "stdout",
          "output_type": "stream",
          "text": [
            "The daily average return of Bitcoin is  0.0013962776090715792\n",
            "The daily variance of Bitcoin is  0.0015734252722591291\n",
            "The daily standard deviation (volatility) of Bitcoin return is  0.03966642499972904\n",
            "The daily median return of Bitcoin is  0.0014686626299020844\n"
          ]
        }
      ],
      "source": [
        "print(\"The daily average return of Bitcoin is \", BTCR[\"r\"].mean())\n",
        "print(\"The daily variance of Bitcoin is \", BTCR[\"r\"].var())\n",
        "print(\"The daily standard deviation (volatility) of Bitcoin return is \", BTCR[\"r\"].std())\n",
        "print(\"The daily median return of Bitcoin is \",BTCR[\"r\"].median())"
      ]
    },
    {
      "cell_type": "markdown",
      "metadata": {
        "id": "Rfw_nfN7m_Ce"
      },
      "source": [
        "---\n",
        "## Challenge: Histogram\n",
        "\n",
        "- Do a histogram for daily Bitcoin cc returns. Hints: use the plot.hist function for pandas dataframes, and the BTC dataframe.\n",
        "\n",
        "- Interpret the histogram with your own words and in CAPITAL LETTERS\n"
      ]
    },
    {
      "cell_type": "code",
      "execution_count": 121,
      "metadata": {
        "colab": {
          "base_uri": "https://localhost:8080/",
          "height": 470
        },
        "id": "O7GI-QOQm-xr",
        "outputId": "4763adc4-87c8-4a6f-f237-ca13f630744e"
      },
      "outputs": [
        {
          "data": {
            "text/plain": [
              "<AxesSubplot: title={'center': 'Historgram for Daily Bitcoin cc returns'}, ylabel='Frequency'>"
            ]
          },
          "execution_count": 121,
          "metadata": {},
          "output_type": "execute_result"
        },
        {
          "data": {
            "image/png": "[encoded data removed]",
            "text/plain": [
              "<Figure size 640x480 with 1 Axes>"
            ]
          },
          "metadata": {},
          "output_type": "display_data"
        }
      ],
      "source": [
        "returnBTC = pd.DataFrame(BTCR[[\"Return\"]])\n",
        "returnBTC.plot.hist(bins=12,alpha=0.5,title=\"Historgram for Daily Bitcoin cc returns\")"
      ]
    },
    {
      "cell_type": "markdown",
      "metadata": {},
      "source": [
        "### `*CONCLUSIONES*`\n",
        "\n",
        "EN EL HISTOGRAMA PODEMOS OBSERVAR QUE LA MAYORIA DE LOS DIAS SOLO HABIA GANANCIAS Y PERDIDAS DEL 0% AL 5%. SI HABIAN DIAS DONDE SE GANABA MAS O INCLUSO MAS DEL 0% A 5% PERO ESO ERA MUY RARO QUE OCURRIERA, YA QUE COMO PODEMOS OBSERVAR EN EL HISTOGRAMA ESTO NO PASA CON MUCHA FRECUENCIA. "
      ]
    },
    {
      "cell_type": "markdown",
      "metadata": {
        "id": "k50UfosynppX"
      },
      "source": [
        "---\n",
        "## Challenge: Simulating the Normal Distribution\n",
        "\n",
        "- Use the mean and standard deviation of the historical cc returns of Bitcoin and simulate the same # of returns as the days we dowloaded in the BTCR dataframe.\n",
        "\n",
        "- In one plot show both, the real distribution of historical cc returns and the simulated normal distribution"
      ]
    },
    {
      "cell_type": "code",
      "execution_count": 131,
      "metadata": {},
      "outputs": [
        {
          "data": {
            "image/png": "[encoded data removed]",
            "text/plain": [
              "<Figure size 640x480 with 1 Axes>"
            ]
          },
          "metadata": {},
          "output_type": "display_data"
        }
      ],
      "source": [
        "from matplotlib import pyplot\n",
        "pyplot.clf()\n",
        "returns_mean = BTCR[\"r\"].mean()\n",
        "returns_sd = BTCR[\"r\"].std()\n",
        "N = BTCR[\"r\"].count()\n",
        "simr= np.random.normal(loc=returns_mean, scale=returns_sd, size=N)\n",
        "realr = BTCR[\"r\"].to_numpy()\n",
        "\n",
        "bins = 50\n",
        "\n",
        "pyplot.hist(simr, bins, alpha = 0.5, label = 'Retornos Simulados')\n",
        "pyplot.hist(realr, bins, alpha = 0.5, label = 'Retornos Reales')\n",
        "pyplot.legend(loc='upper left')\n",
        "pyplot.title(label='Histograma de retornos reales y simulados de Bitcoin')\n",
        "\n",
        "pyplot.show()"
      ]
    },
    {
      "cell_type": "markdown",
      "metadata": {},
      "source": [
        "- DO YOU SEE A DIFFERENCE BEWEEN THE REAL VS THE SIMULATED RETURNS? BRIEFLY EXPLAIN."
      ]
    },
    {
      "cell_type": "markdown",
      "metadata": {},
      "source": [
        "### `*Conclusiones*`"
      ]
    },
    {
      "cell_type": "markdown",
      "metadata": {},
      "source": [
        "AL OBSERVAR EL HISTOGRAMA DE LOS RETORNOS REALES Y LOS RETORNOS SIMULADOS DE BITCOIN, NOS PODEMOS DAR CUENTA QUE EXISTE UNA DIFERENCIA MUY IMPORTANTE ENTRE LA SIMULACION Y LOS DATOS REALES. EN LOS RETORNOS REALES QUE TUVO EL BITCOIN, PODEMOS OBSERVAR QUE HUBIERON CAMBIOS BRUSCOS EN COMPARACIÓN A LA SIMULACIÓN LA CUAL EL BITCOIN TUVO UNA MENOR FRECUENCIA DE CAMBIO. CON ESTO PODEMOS DECIR QUE LOS DATOS SIMULADOS FUERON MAS ESTABLES QUE LO QUE PASO EN LA VIDA REAL."
      ]
    }
  ],
  "metadata": {
    "colab": {
      "provenance": []
    },
    "kernelspec": {
      "display_name": "Python 3",
      "name": "python3"
    },
    "language_info": {
      "codemirror_mode": {
        "name": "ipython",
        "version": 3
      },
      "file_extension": ".py",
      "mimetype": "text/x-python",
      "name": "python",
      "nbconvert_exporter": "python",
      "pygments_lexer": "ipython3",
      "version": "3.9.6"
    }
  },
  "nbformat": 4,
  "nbformat_minor": 0
}
