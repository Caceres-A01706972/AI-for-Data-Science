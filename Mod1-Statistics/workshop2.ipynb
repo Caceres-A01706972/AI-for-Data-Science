{
 "cells": [
  {
   "cell_type": "markdown",
   "metadata": {},
   "source": [
    "# Workshop 2, Advanced AI - Statistics Module\n",
    "\n",
    "Student: Ricardo Andrés Cáceres Villibord\n",
    "\n",
    "Date: 16 de Agosto del 2023 \n",
    "\n",
    "***Abstract***\n",
    "- *In this workshop we learn about a) The Central Limit Theore and b) Hypothesis Testing.*"
   ]
  },
  {
   "cell_type": "markdown",
   "metadata": {},
   "source": [
    "### 2.2 Monte Carlo Simulation\n",
    "\n",
    "*We have to install the symbulate Python package* (`pip install symbulate`)"
   ]
  },
  {
   "cell_type": "code",
   "execution_count": 87,
   "metadata": {},
   "outputs": [],
   "source": [
    "from symbulate import *\n",
    "import matplotlib\n",
    "import matplotlib.pyplot as plt"
   ]
  },
  {
   "cell_type": "markdown",
   "metadata": {},
   "source": [
    "### 2.2.1 Simulationg numbers with the UNIFORM probability distribution\n",
    "\n",
    "We define a uniform random variable X and simulate 10,000 uniform random numbers with values 0 to 40:"
   ]
  },
  {
   "cell_type": "code",
   "execution_count": 88,
   "metadata": {},
   "outputs": [
    {
     "data": {
      "image/png": "[encoded data removed]",
      "text/plain": [
       "<Figure size 640x480 with 1 Axes>"
      ]
     },
     "metadata": {},
     "output_type": "display_data"
    }
   ],
   "source": [
    "# clear the plot space\n",
    "plt.clf()\n",
    "#Define the probability type of funciton as uniform (probability space)\n",
    "P = Uniform(0,40)\n",
    "# Define X as a random variable of the type P (uniform)\n",
    "X = RV(P)\n",
    "# Simulate the values of X and save them in the x array\n",
    "x = X.sim(10000)\n",
    "x.plot()\n",
    "plt.show()"
   ]
  },
  {
   "cell_type": "markdown",
   "metadata": {},
   "source": [
    "### 2.2.2 **CHALLENGE**\n",
    "\n",
    "- a) CALCULATE THE MEAN AND STANDARD DEVIATION OF THIS SIMULATED UNIFORM x VARIABLE. HOW CLOSE WERE THESE MEAN AND STANDARD DEVIATION FROM THE THEORETICAL MEAN AND STANDARD DEVIATION?"
   ]
  },
  {
   "cell_type": "code",
   "execution_count": 89,
   "metadata": {},
   "outputs": [
    {
     "name": "stdout",
     "output_type": "stream",
     "text": [
      "Theoretical Mean:  20.0 \n",
      "Theoretical Std:  11.547005383792516\n",
      "\n",
      "Mean:  19.98792314791283 \n",
      "Std:  11.55338381068996\n",
      "\n",
      "Difference in Mean: 0.012076852087169243 \n",
      "Difference in Standard Deviation: 0.00637842689744339\n"
     ]
    }
   ],
   "source": [
    "# Simulated mean and standard deviation\n",
    "x_mean = x.mean()\n",
    "x_std = x.sd()\n",
    "\n",
    "# Theoretical mean and standard deviation\n",
    "theoretical_mean = (0 + 40) / 2\n",
    "theoretical_std = (40 - 0) / sqrt(12)\n",
    "\n",
    "print(\"Theoretical Mean: \", theoretical_mean, \"\\nTheoretical Std: \", theoretical_std )\n",
    "print(\"\\nMean: \", x_mean, \"\\nStd: \", x_std)\n",
    "\n",
    "# Compare simulated and theoretical results\n",
    "mean_difference = abs(x_mean - theoretical_mean)\n",
    "std_difference = abs(x_std - theoretical_std)\n",
    "\n",
    "print(\"\\nDifference in Mean:\", mean_difference, \"\\nDifference in Standard Deviation:\", std_difference)"
   ]
  },
  {
   "cell_type": "markdown",
   "metadata": {},
   "source": [
    "*PODEMOS OBSERVAR VALORES MUY CERCANOS EN EL PROMEDIOL Y LA DESVIACION DE LOS VALORES DE LA SIMULACION CON LOS THEORETICOS*"
   ]
  },
  {
   "cell_type": "markdown",
   "metadata": {},
   "source": [
    "\n",
    "- b) INTERPET THE ABOVE HISTOGRAM. WHAT DO YOU SEE? EXPLAIN WITH YOUR WORDS."
   ]
  },
  {
   "cell_type": "markdown",
   "metadata": {},
   "source": [
    "*EN EL HISTOGRAMA PODEMOS OBSERVAR QUE TODOS LOS VALORES DE LA VARIABLE X (DE 0 A 40) SON TODOS DISTRIBUIDOS DE MANERA UNIFORME, ES DECIR TODOS TIENEN UNA DENSIDAD PARECIDA*"
   ]
  },
  {
   "cell_type": "markdown",
   "metadata": {},
   "source": [
    "\n",
    "Now generate 10,000 groups of 25 uniform random variables to end up in a matrix of 10,000 rows and 25 columns:"
   ]
  },
  {
   "cell_type": "code",
   "execution_count": 90,
   "metadata": {},
   "outputs": [],
   "source": [
    "# Define the probability space as a vector of 25 uniform random numnbers:\n",
    "P = Uniform(0,40) ** 25\n",
    "# Define XVECTOR as a vector of random variables with 25 random vaalues\n",
    "XVECTOR = RV(P)\n",
    "# Simulate 10,000 vectors to get a matrix\n",
    "xmatrix = XVECTOR.sim(10000)"
   ]
  },
  {
   "cell_type": "markdown",
   "metadata": {},
   "source": [
    "Now the matrix will have 10,000 rows and 25 columns of uniform random numbers between 0 and 40:"
   ]
  },
  {
   "cell_type": "code",
   "execution_count": 91,
   "metadata": {},
   "outputs": [
    {
     "data": {
      "text/html": [
       "\n",
       "    <table>\n",
       "      <thead>\n",
       "        <th width=\"10%\">Index</th>\n",
       "        <th width=\"90%\">Result</th>\n",
       "      </thead>\n",
       "      <tbody>\n",
       "        \n",
       "        <tr>\n",
       "          <td>0</td><td>(36.56485160209336, 24.833774762744657, 22.43739701517108, 35.003180404809314, 39.75237050118764, .....</td>\n",
       "        </tr>\n",
       "        \n",
       "        <tr>\n",
       "          <td>1</td><td>(2.9043857531196426, 13.460860341153058, 11.48836588819572, 0.7246080575766944, 37.260790607629716, ...</td>\n",
       "        </tr>\n",
       "        \n",
       "        <tr>\n",
       "          <td>2</td><td>(20.870001163925338, 34.0732494892898, 23.497259694877123, 1.691117318363733, 37.480021293496016, .....</td>\n",
       "        </tr>\n",
       "        \n",
       "        <tr>\n",
       "          <td>3</td><td>(35.4216577100155, 31.94176990115602, 37.09115033552631, 9.745920338349752, 7.6115585351172665, ...,...</td>\n",
       "        </tr>\n",
       "        \n",
       "        <tr>\n",
       "          <td>4</td><td>(4.503103056795648, 24.75466691482248, 23.218747089085493, 17.217218076763675, 2.3124474073498114, ....</td>\n",
       "        </tr>\n",
       "        \n",
       "        <tr>\n",
       "          <td>5</td><td>(27.714276582749626, 6.162392147489619, 21.403683438739453, 35.20087187816253, 23.507621314224174, ....</td>\n",
       "        </tr>\n",
       "        \n",
       "        <tr>\n",
       "          <td>6</td><td>(35.5730373669533, 13.562731887779238, 8.768533587597762, 33.44573971786123, 11.441814669594548, ......</td>\n",
       "        </tr>\n",
       "        \n",
       "        <tr>\n",
       "          <td>7</td><td>(29.673148665153075, 18.09744281447712, 11.844783016665371, 36.9247692248099, 0.03987962945868784, ....</td>\n",
       "        </tr>\n",
       "        \n",
       "        <tr>\n",
       "          <td>8</td><td>(0.33434814788140255, 25.655931267600796, 22.882275062064707, 18.076202421623986, 20.336176529502644...</td>\n",
       "        </tr>\n",
       "        <tr><td>...</td><td>...</td></tr>\n",
       "        <tr>\n",
       "          <td>9999</td><td>(38.60115966714216, 13.304408890141639, 12.45250030829812, 15.929779229513832, 35.48761748983263, .....</td>\n",
       "        </tr>\n",
       "        \n",
       "      </tbody>\n",
       "    </table>\n",
       "        "
      ],
      "text/plain": [
       "Index Result\n",
       "0     (36.56485160209336, 24.833774762744657, 22.43739701517108, 35.003180404809314, 39.75237050118764, ..., 16.74440294430967)\n",
       "1     (2.9043857531196426, 13.460860341153058, 11.48836588819572, 0.7246080575766944, 37.260790607629716, ..., 9.427031874589229)\n",
       "2     (20.870001163925338, 34.0732494892898, 23.497259694877123, 1.691117318363733, 37.480021293496016, ..., 18.187829576652554)\n",
       "3     (35.4216577100155, 31.94176990115602, 37.09115033552631, 9.745920338349752, 7.6115585351172665, ..., 31.263825051813015)\n",
       "4     (4.503103056795648, 24.75466691482248, 23.218747089085493, 17.217218076763675, 2.3124474073498114, ..., 29.037662485835682)\n",
       "5     (27.714276582749626, 6.162392147489619, 21.403683438739453, 35.20087187816253, 23.507621314224174, ..., 18.089154850351207)\n",
       "6     (35.5730373669533, 13.562731887779238, 8.768533587597762, 33.44573971786123, 11.441814669594548, ..., 15.628336957337051)\n",
       "7     (29.673148665153075, 18.09744281447712, 11.844783016665371, 36.9247692248099, 0.03987962945868784, ..., 9.998670832313845)\n",
       "8     (0.33434814788140255, 25.655931267600796, 22.882275062064707, 18.076202421623986, 20.336176529502644, ..., 38.15149350347805)\n",
       "....  ..........................................................................................................................\n",
       "9999  (38.60115966714216, 13.304408890141639, 12.45250030829812, 15.929779229513832, 35.48761748983263, ..., 20.303026469210327)"
      ]
     },
     "execution_count": 91,
     "metadata": {},
     "output_type": "execute_result"
    }
   ],
   "source": [
    "xmatrix"
   ]
  },
  {
   "cell_type": "markdown",
   "metadata": {},
   "source": [
    "Now we get the mean of each row, so we end up with 10,000 sample means:"
   ]
  },
  {
   "cell_type": "code",
   "execution_count": 92,
   "metadata": {},
   "outputs": [
    {
     "data": {
      "text/html": [
       "\n",
       "    <table>\n",
       "      <thead>\n",
       "        <th width=\"10%\">Index</th>\n",
       "        <th width=\"90%\">Result</th>\n",
       "      </thead>\n",
       "      <tbody>\n",
       "        \n",
       "        <tr>\n",
       "          <td>0</td><td>21.507819323022577</td>\n",
       "        </tr>\n",
       "        \n",
       "        <tr>\n",
       "          <td>1</td><td>17.877992915275293</td>\n",
       "        </tr>\n",
       "        \n",
       "        <tr>\n",
       "          <td>2</td><td>18.427189494552433</td>\n",
       "        </tr>\n",
       "        \n",
       "        <tr>\n",
       "          <td>3</td><td>15.11977425403229</td>\n",
       "        </tr>\n",
       "        \n",
       "        <tr>\n",
       "          <td>4</td><td>18.63015673784255</td>\n",
       "        </tr>\n",
       "        \n",
       "        <tr>\n",
       "          <td>5</td><td>21.800289387834297</td>\n",
       "        </tr>\n",
       "        \n",
       "        <tr>\n",
       "          <td>6</td><td>18.25583982121882</td>\n",
       "        </tr>\n",
       "        \n",
       "        <tr>\n",
       "          <td>7</td><td>17.326471046080147</td>\n",
       "        </tr>\n",
       "        \n",
       "        <tr>\n",
       "          <td>8</td><td>19.96396185929192</td>\n",
       "        </tr>\n",
       "        <tr><td>...</td><td>...</td></tr>\n",
       "        <tr>\n",
       "          <td>9999</td><td>20.570129082668917</td>\n",
       "        </tr>\n",
       "        \n",
       "      </tbody>\n",
       "    </table>\n",
       "        "
      ],
      "text/plain": [
       "Index Result\n",
       "0     21.507819323022577\n",
       "1     17.877992915275293\n",
       "2     18.427189494552433\n",
       "3     15.11977425403229\n",
       "4     18.63015673784255\n",
       "5     21.800289387834297\n",
       "6     18.25583982121882\n",
       "7     17.326471046080147\n",
       "8     19.96396185929192\n",
       "....  ..................\n",
       "9999  20.570129082668917"
      ]
     },
     "execution_count": 92,
     "metadata": {},
     "output_type": "execute_result"
    }
   ],
   "source": [
    "# The 2nd parameter is the mathematical operation applied to each row of the random vector\n",
    "# Simulate 10,000 means of each random vector of 25 uniform distributed numbers: \n",
    "xmean = RV(P,mean).sim(10000)\n",
    "xmean"
   ]
  },
  {
   "cell_type": "markdown",
   "metadata": {},
   "source": [
    "Now do a histogram of these sample means that come from a UNIFORM distribution"
   ]
  },
  {
   "cell_type": "code",
   "execution_count": 93,
   "metadata": {},
   "outputs": [
    {
     "data": {
      "image/png": "[encoded data removed]",
      "text/plain": [
       "<Figure size 640x480 with 1 Axes>"
      ]
     },
     "metadata": {},
     "output_type": "display_data"
    }
   ],
   "source": [
    "plt.clf()\n",
    "xmean.plot()\n",
    "plt.show()"
   ]
  },
  {
   "cell_type": "markdown",
   "metadata": {},
   "source": [
    "### 2.2.2 **CHALLENGE**\n",
    "\n",
    "- A) **CALCULATE THE MEAN AND STANDARD DEVIATION OF THE xmean VARIABLE. HOW SIMILAR OR DIFFERENT ARE THESE VALUES FROM THE MEAN AND STANDARD DEVIATION OF x?**"
   ]
  },
  {
   "cell_type": "code",
   "execution_count": 94,
   "metadata": {},
   "outputs": [
    {
     "name": "stdout",
     "output_type": "stream",
     "text": [
      "Mean of xmean:  20.012747179458152 \n",
      "Standard Deviation of xmean:  2.307163893498183\n"
     ]
    }
   ],
   "source": [
    "mean_of_xmean = xmean.mean()\n",
    "xmean_std = xmean.sd()\n",
    "print(\"Mean of xmean: \", mean_of_xmean, \"\\nStandard Deviation of xmean: \", xmean_std)\n"
   ]
  },
  {
   "cell_type": "markdown",
   "metadata": {},
   "source": [
    "*CON LOS VALORES DE XMEAN Y LA DESVIACION ESTANDAR DE XMEAN, NOS PODEMOS DAR CUENTA QUE EL MEAN NO CAMBIA MUCHO A LOS VALORES DE X. SIN EMBARGO, CUANDO MIRAMOS EL VALOR DE LA DESVIACION ESTANDAR DE XMEAN CON RESPECTO A LA X, SI VARIA DE MANERA DRASTICA.*"
   ]
  },
  {
   "cell_type": "markdown",
   "metadata": {},
   "source": [
    "- B) **WHAT DO YOU SEE IN THE ABOVE HISTOGRAM? DOES THE HISTOGRAM OF SAMPLE MEANS OF UNIFORM RANDOM VARIABLE LOOK LIKE A UNIFORM DISTRIBUTED VARIABLE? DO YOU SEE A LOGIC? BRIEFLY EXPLAIN WHAT YOU THINK**"
   ]
  },
  {
   "cell_type": "markdown",
   "metadata": {},
   "source": [
    "*EN EL HISTOGRAMA QUE ESTA ARRIBA PODEMOS OBBSERVAR COMO SE PRESENTAN LOS VALOR DE XMEAN COMO UNA CAMPANA DE GAUSS. CON ESTO PODEMOS OBSERVAR QUE LOS VALORES DE X TIENDEN A AGRUPARSE ALREDEDOR DE UN VALOR CENTRAL, EN ESTE CASO SIENDO ALREDEDOR DE 20*"
   ]
  },
  {
   "cell_type": "markdown",
   "metadata": {},
   "source": [
    "**Now plot both variables in the same plot; the original x uniform variable and the xsample variable (the sample means of x).**"
   ]
  },
  {
   "cell_type": "code",
   "execution_count": 95,
   "metadata": {},
   "outputs": [
    {
     "data": {
      "image/png": "[encoded data removed]",
      "text/plain": [
       "<Figure size 640x480 with 1 Axes>"
      ]
     },
     "metadata": {},
     "output_type": "display_data"
    }
   ],
   "source": [
    "plt.clf()\n",
    "xmean.plot()\n",
    "x.plot()\n",
    "plt.show()"
   ]
  },
  {
   "cell_type": "markdown",
   "metadata": {},
   "source": [
    "- C) **WHAT DO YOU SEE? HOW THE HISTOGRAM OF X DIFFERS FROM THE HISTOGRAM OF THE SAMPLES OF X?**"
   ]
  },
  {
   "cell_type": "markdown",
   "metadata": {},
   "source": [
    "*EN EL HISTOGRAMA PODEMOS OBSERVAR LA CAMPANA DE GAUSS QUE SE CREA AL GRAFICAR EL MEAN DE X, Y TAMBIEN EN COLOR NARANJA PODEMOS OBSERVAR EL SET DE DATOS ALEATORIOS DEL 0 AL 40 Y LA DENSIDAD QUE ESTOS NUMEROS TIENEN.*"
   ]
  },
  {
   "cell_type": "markdown",
   "metadata": {},
   "source": [
    "### 2.2.4 **Simulating Numbers with the NORMAL probability distribution**\n",
    "\n",
    "Let’s simulate a normal distributed variable Y with mean = 20 and standard devation = 10."
   ]
  },
  {
   "cell_type": "code",
   "execution_count": 96,
   "metadata": {},
   "outputs": [
    {
     "data": {
      "image/png": "[encoded data removed]",
      "text/plain": [
       "<Figure size 640x480 with 1 Axes>"
      ]
     },
     "metadata": {},
     "output_type": "display_data"
    }
   ],
   "source": [
    "# clear the plot space:\n",
    "plt.clf()\n",
    "# Define the probability type of function as uniform (probability space)\n",
    "P = Normal(mean=20, sd=10)\n",
    "# Define Y as a random variable of the type P (normal)\n",
    "Y =RV(P)\n",
    "# Simulate 10,000 values of Y and save the in the x array: \n",
    "y=Y.sim(10000)\n",
    "y.plot()\n",
    "plt.show()"
   ]
  },
  {
   "cell_type": "markdown",
   "metadata": {},
   "source": [
    "### 2.2.5 **CHALLENGE**"
   ]
  },
  {
   "cell_type": "markdown",
   "metadata": {},
   "source": [
    "**- A) CALCULATE THE MEAN AND STANDARD DEVIATION OF THIS RANDOM y VARIABLE. HOW SIMILAR OR DIFFERENT ARE THESE VALUES FROM THE MEAN AND STANDARD DEVIATION OF THE THEORETICAL MEAN (20) AND THE THEORETICAL STANDARD DEVIATION (10)?**"
   ]
  },
  {
   "cell_type": "code",
   "execution_count": 97,
   "metadata": {},
   "outputs": [
    {
     "name": "stdout",
     "output_type": "stream",
     "text": [
      "Y mean:  20.17720537165113 \n",
      "Y STD:  9.868602432173104\n",
      "Diferencia mean:  0.17720537165113015 \n",
      "Diferencia std:  0.13139756782689638\n"
     ]
    }
   ],
   "source": [
    "y_mean = y.mean()\n",
    "y_std = y.sd()\n",
    "\n",
    "theoretical_ymean = 20\n",
    "theoretical_ystd = 10\n",
    "\n",
    "print(\"Y mean: \", y_mean, \"\\nY STD: \", y_std)\n",
    "print(\"Diferencia mean: \", abs(y_mean - theoretical_ymean), \"\\nDiferencia std: \", abs(y_std - theoretical_ystd))"
   ]
  },
  {
   "cell_type": "markdown",
   "metadata": {},
   "source": [
    "*PODEMOS OBSERVAR OBSERVAR QUE LOS VALORES TEORETICOS SON CASI IGUALES A LOS OBTENIDOS. TENIENDO SOLO UNA DIFERENCIA DE 0.038 EN EL MEAN Y 0.159 EN LA DESVIACION ESTANDAR*"
   ]
  },
  {
   "cell_type": "markdown",
   "metadata": {},
   "source": [
    "- **B)WHAT DO YOU SEE? INTERPRET THE HISTOGRAM WITH YOUR WORDS.**\n",
    "  \n",
    "Now generate 10,000 groups of 25 NORMAL random variables with mean=20 and SD=10. You will end up with a matrix of 10,000 rows and 25 columns:"
   ]
  },
  {
   "cell_type": "code",
   "execution_count": 98,
   "metadata": {},
   "outputs": [],
   "source": [
    "# Define the probability space P as a vector of 25 normal random numbers:\n",
    "P = Normal(mean=20, sd=10) ** 25\n",
    "# Define RANDOMVECTOR as a vector of 25 random variables in the Probability space P \n",
    "RANDOMVECTOR = RV(P)\n",
    "# Simulate 10,000 random vectors with this distribution and save the in ymatrix: \n",
    "ymatrix=RANDOMVECTOR.sim(10000)"
   ]
  },
  {
   "cell_type": "markdown",
   "metadata": {},
   "source": [
    "Now ymatrix will have 10,000 rows and 25 columns of NORMAL random numbers with mean=20 and SD=10"
   ]
  },
  {
   "cell_type": "code",
   "execution_count": 99,
   "metadata": {},
   "outputs": [
    {
     "data": {
      "text/html": [
       "\n",
       "    <table>\n",
       "      <thead>\n",
       "        <th width=\"10%\">Index</th>\n",
       "        <th width=\"90%\">Result</th>\n",
       "      </thead>\n",
       "      <tbody>\n",
       "        \n",
       "        <tr>\n",
       "          <td>0</td><td>(10.012858111778867, 27.30068323096418, 4.400413683213113, 35.32881587778642, 21.03021292770288, ......</td>\n",
       "        </tr>\n",
       "        \n",
       "        <tr>\n",
       "          <td>1</td><td>(15.61681617489878, 20.303278542903836, 4.656452111691696, 20.88119276536192, 8.653833229723853, ......</td>\n",
       "        </tr>\n",
       "        \n",
       "        <tr>\n",
       "          <td>2</td><td>(30.085869933755482, 15.172198237032244, 29.952337679300644, 4.267670812776451, 47.03963703232377, ....</td>\n",
       "        </tr>\n",
       "        \n",
       "        <tr>\n",
       "          <td>3</td><td>(18.958485791431503, 20.366420673533092, 7.683553057035763, 0.1361697084183291, 15.834659603064608, ...</td>\n",
       "        </tr>\n",
       "        \n",
       "        <tr>\n",
       "          <td>4</td><td>(-0.43795014526874354, 9.887724585404456, 3.94403862094369, 16.064406163552896, 14.168012730957955, ...</td>\n",
       "        </tr>\n",
       "        \n",
       "        <tr>\n",
       "          <td>5</td><td>(4.706304928632237, 21.244950723048163, 35.04036188214556, 23.54692757027282, 25.440031904297918, .....</td>\n",
       "        </tr>\n",
       "        \n",
       "        <tr>\n",
       "          <td>6</td><td>(27.230604231485074, 29.35500149762388, 17.143590234793454, 22.746197416626927, 20.245194701910492, ...</td>\n",
       "        </tr>\n",
       "        \n",
       "        <tr>\n",
       "          <td>7</td><td>(24.457054837397564, 20.91122351594221, 31.237470075867012, 2.2835063392749326, 32.98163437391146, ....</td>\n",
       "        </tr>\n",
       "        \n",
       "        <tr>\n",
       "          <td>8</td><td>(9.981194645577755, 31.805183308087777, 17.079121723377654, 27.259129873356315, 21.464563362649216, ...</td>\n",
       "        </tr>\n",
       "        <tr><td>...</td><td>...</td></tr>\n",
       "        <tr>\n",
       "          <td>9999</td><td>(5.523277180936683, 30.76637782548069, 36.80571342634746, 24.173248312577982, 17.45135960699731, ......</td>\n",
       "        </tr>\n",
       "        \n",
       "      </tbody>\n",
       "    </table>\n",
       "        "
      ],
      "text/plain": [
       "Index Result\n",
       "0     (10.012858111778867, 27.30068323096418, 4.400413683213113, 35.32881587778642, 21.03021292770288, ..., 12.937764014975247)\n",
       "1     (15.61681617489878, 20.303278542903836, 4.656452111691696, 20.88119276536192, 8.653833229723853, ..., 14.519898210533775)\n",
       "2     (30.085869933755482, 15.172198237032244, 29.952337679300644, 4.267670812776451, 47.03963703232377, ..., 27.37283491244708)\n",
       "3     (18.958485791431503, 20.366420673533092, 7.683553057035763, 0.1361697084183291, 15.834659603064608, ..., 10.8474739379447)\n",
       "4     (-0.43795014526874354, 9.887724585404456, 3.94403862094369, 16.064406163552896, 14.168012730957955, ..., 20.278207897020266)\n",
       "5     (4.706304928632237, 21.244950723048163, 35.04036188214556, 23.54692757027282, 25.440031904297918, ..., 23.460463260814286)\n",
       "6     (27.230604231485074, 29.35500149762388, 17.143590234793454, 22.746197416626927, 20.245194701910492, ..., 29.813785911295465)\n",
       "7     (24.457054837397564, 20.91122351594221, 31.237470075867012, 2.2835063392749326, 32.98163437391146, ..., 6.558211771474715)\n",
       "8     (9.981194645577755, 31.805183308087777, 17.079121723377654, 27.259129873356315, 21.464563362649216, ..., 35.85926219443891)\n",
       "....  .........................................................................................................................\n",
       "9999  (5.523277180936683, 30.76637782548069, 36.80571342634746, 24.173248312577982, 17.45135960699731, ..., 19.253643640338606)"
      ]
     },
     "execution_count": 99,
     "metadata": {},
     "output_type": "execute_result"
    }
   ],
   "source": [
    "ymatrix"
   ]
  },
  {
   "cell_type": "markdown",
   "metadata": {},
   "source": [
    "Now we get the mean of each vector (row) to get 10,000 sample means:"
   ]
  },
  {
   "cell_type": "code",
   "execution_count": 100,
   "metadata": {},
   "outputs": [
    {
     "data": {
      "text/html": [
       "\n",
       "    <table>\n",
       "      <thead>\n",
       "        <th width=\"10%\">Index</th>\n",
       "        <th width=\"90%\">Result</th>\n",
       "      </thead>\n",
       "      <tbody>\n",
       "        \n",
       "        <tr>\n",
       "          <td>0</td><td>21.45678589172707</td>\n",
       "        </tr>\n",
       "        \n",
       "        <tr>\n",
       "          <td>1</td><td>20.142230138643345</td>\n",
       "        </tr>\n",
       "        \n",
       "        <tr>\n",
       "          <td>2</td><td>20.209566547688784</td>\n",
       "        </tr>\n",
       "        \n",
       "        <tr>\n",
       "          <td>3</td><td>20.26851965956984</td>\n",
       "        </tr>\n",
       "        \n",
       "        <tr>\n",
       "          <td>4</td><td>22.68753673986458</td>\n",
       "        </tr>\n",
       "        \n",
       "        <tr>\n",
       "          <td>5</td><td>18.725570039204193</td>\n",
       "        </tr>\n",
       "        \n",
       "        <tr>\n",
       "          <td>6</td><td>20.899920308124916</td>\n",
       "        </tr>\n",
       "        \n",
       "        <tr>\n",
       "          <td>7</td><td>15.99737081793926</td>\n",
       "        </tr>\n",
       "        \n",
       "        <tr>\n",
       "          <td>8</td><td>23.16224326186269</td>\n",
       "        </tr>\n",
       "        <tr><td>...</td><td>...</td></tr>\n",
       "        <tr>\n",
       "          <td>9999</td><td>22.05039372637035</td>\n",
       "        </tr>\n",
       "        \n",
       "      </tbody>\n",
       "    </table>\n",
       "        "
      ],
      "text/plain": [
       "Index Result\n",
       "0     21.45678589172707\n",
       "1     20.142230138643345\n",
       "2     20.209566547688784\n",
       "3     20.26851965956984\n",
       "4     22.68753673986458\n",
       "5     18.725570039204193\n",
       "6     20.899920308124916\n",
       "7     15.99737081793926\n",
       "8     23.16224326186269\n",
       "....  .................\n",
       "9999  22.05039372637035"
      ]
     },
     "execution_count": 100,
     "metadata": {},
     "output_type": "execute_result"
    }
   ],
   "source": [
    "# The 2nd parameter is the mathematical operation applied to each row of the random vector\n",
    "# Simulate 10,000 means of each random vector of 25 uniform distributed numbers: \n",
    "ymean = RV(P,mean).sim(10000)\n",
    "ymean"
   ]
  },
  {
   "cell_type": "markdown",
   "metadata": {},
   "source": [
    "Now do a histogram of these sample means of Y."
   ]
  },
  {
   "cell_type": "code",
   "execution_count": 101,
   "metadata": {},
   "outputs": [
    {
     "data": {
      "image/png": "[encoded data removed]",
      "text/plain": [
       "<Figure size 640x480 with 1 Axes>"
      ]
     },
     "metadata": {},
     "output_type": "display_data"
    }
   ],
   "source": [
    "plt.clf()\n",
    "ymean.plot()\n",
    "plt.show()"
   ]
  },
  {
   "cell_type": "markdown",
   "metadata": {},
   "source": [
    "*EN EL HISTOGRAMA DE LOS VALORES DE Y, PODEMOS OBSERVAR UNA CAMPANA DE GAUSS LA CAUL NOS MUESTRA DONDE TIENDEN A AGRUPARSE LOS VALORES, QUE EN ESTE CASO ES ALREDEDOR DE UN VALOR CENTRAL QUE ES APROXIMADAMENTE 20*"
   ]
  },
  {
   "cell_type": "markdown",
   "metadata": {},
   "source": [
    "### **2.2.6 CHALLENGE**\n",
    "\n",
    "- **A) CALCULATE THE MEAN AND STANDARD DEVIATION OF THE ymean VARIABLE. HOW SIMILAR OR DIFFERENT ARE THESE VALUES FROM THE MEAN AND STANDARD DEVIATION OF y?**"
   ]
  },
  {
   "cell_type": "code",
   "execution_count": 102,
   "metadata": {},
   "outputs": [
    {
     "name": "stdout",
     "output_type": "stream",
     "text": [
      "MEAN OF ymean:  20.00109060074075 \n",
      "STD of ystd:  2.0149462298730407\n"
     ]
    }
   ],
   "source": [
    "mean_of_ymean = ymean.mean()\n",
    "mean_of_ystd = ymean.sd()\n",
    "print(\"MEAN OF ymean: \", mean_of_ymean, \"\\nSTD of ystd: \", mean_of_ystd)"
   ]
  },
  {
   "cell_type": "markdown",
   "metadata": {},
   "source": []
  },
  {
   "cell_type": "markdown",
   "metadata": {},
   "source": [
    "*EL VALOR DEL MEAN SE MANTIENE CASI IGUAL, SIN EMBARGO EL VALOR DE LA DESVIACION ESTANDAR SI VARIA MUCHO MAS SIENDO EL DE LA DESVIACION ESTANDAR DE YMEAN, MUCHO MENOR*"
   ]
  },
  {
   "cell_type": "markdown",
   "metadata": {},
   "source": [
    "- **B) INTERPRET THE ABOVE HISTOGRAM OF THE SAMPLES OF y**\n",
    "\n",
    "Now plot both histograms, the histogram of y and the histogram of ymean:"
   ]
  },
  {
   "cell_type": "code",
   "execution_count": 103,
   "metadata": {},
   "outputs": [
    {
     "data": {
      "image/png": "[encoded data removed]",
      "text/plain": [
       "<Figure size 640x480 with 1 Axes>"
      ]
     },
     "metadata": {},
     "output_type": "display_data"
    }
   ],
   "source": [
    "plt.clf()\n",
    "ymean.plot()\n",
    "y.plot()\n",
    "plt.show()"
   ]
  },
  {
   "cell_type": "markdown",
   "metadata": {},
   "source": [
    "*EN EL HISTOGRAMA PODEMOS OBSERVAR LOS DATOS DE Y Y EL MEAN DE Y. PODEMOS OBSERVAR COMO SE FORMA UNA CAMPANA DE GAUSS INDICANDONOS QUE LOS DATOS TIENDEN A AGRUPARSE EN UN VALOR CENTRAL, EN ESTE CASO 20*"
   ]
  },
  {
   "cell_type": "markdown",
   "metadata": {},
   "source": [
    "- **C) WHAT DO YOU SEE? COMPARE BOTH HISTOGRAMS. BRIEFLY EXPLAIN WHAT YOU THINK THAT HAPPEND.**"
   ]
  },
  {
   "cell_type": "markdown",
   "metadata": {},
   "source": [
    "*PODEMOS OBSERVAR AMBOS HISTOGRAMAS Y VER COMO EN EL PRIMER HISTOGRAMA TENEMOS LOS DATOS DE Y Y SU DENSIDAD. PODEMOS VER QUE LOS VALORES QUE TIENE LA VARIABLE Y SON PARA QUE EL PROMEDIO SEA 20. MIENTRAS QUE EN EL SEGUNDO HISTOGRAMA PODEMOS OBSERVAR COMO EL PROMEDIO TIENDE A TENER UN VALOR DE 20, ESTO LO PODEMOS OBSEVAR CON LA CAMPANA DE GAUSS QUE SE CREA*"
   ]
  },
  {
   "cell_type": "markdown",
   "metadata": {},
   "source": [
    "### **4.1 CHALLENGE**\n",
    "\n",
    "Collect real data for Microsoft (MSFT) stock and do a hypothesis testing to see whether the mean of monthly cc returns of Microsoft is greater than zero.\n",
    "\n",
    "You have to do the following:\n",
    "\n",
    "Run a t-test to compare whether the mean return of MSFT is greater than zero.\n",
    "\n",
    "To do a hypothesis test, we usually do the following steps:\n"
   ]
  },
  {
   "cell_type": "markdown",
   "metadata": {},
   "source": [
    "\n",
    "**DEFINE THE VARIABLE OF STUDY. In this case it will be the mean of MSFT cc returns**"
   ]
  },
  {
   "cell_type": "code",
   "execution_count": 104,
   "metadata": {},
   "outputs": [
    {
     "name": "stdout",
     "output_type": "stream",
     "text": [
      "[*********************100%***********************]  1 of 1 completed\n"
     ]
    },
    {
     "data": {
      "text/html": [
       "<div>\n",
       "<style scoped>\n",
       "    .dataframe tbody tr th:only-of-type {\n",
       "        vertical-align: middle;\n",
       "    }\n",
       "\n",
       "    .dataframe tbody tr th {\n",
       "        vertical-align: top;\n",
       "    }\n",
       "\n",
       "    .dataframe thead th {\n",
       "        text-align: right;\n",
       "    }\n",
       "</style>\n",
       "<table border=\"1\" class=\"dataframe\">\n",
       "  <thead>\n",
       "    <tr style=\"text-align: right;\">\n",
       "      <th></th>\n",
       "      <th>Open</th>\n",
       "      <th>High</th>\n",
       "      <th>Low</th>\n",
       "      <th>Close</th>\n",
       "      <th>Adj Close</th>\n",
       "      <th>Volume</th>\n",
       "    </tr>\n",
       "    <tr>\n",
       "      <th>Date</th>\n",
       "      <th></th>\n",
       "      <th></th>\n",
       "      <th></th>\n",
       "      <th></th>\n",
       "      <th></th>\n",
       "      <th></th>\n",
       "    </tr>\n",
       "  </thead>\n",
       "  <tbody>\n",
       "    <tr>\n",
       "      <th>2017-01-03</th>\n",
       "      <td>62.790001</td>\n",
       "      <td>62.840000</td>\n",
       "      <td>62.130001</td>\n",
       "      <td>62.580002</td>\n",
       "      <td>57.254711</td>\n",
       "      <td>20694100</td>\n",
       "    </tr>\n",
       "    <tr>\n",
       "      <th>2017-01-04</th>\n",
       "      <td>62.480000</td>\n",
       "      <td>62.750000</td>\n",
       "      <td>62.119999</td>\n",
       "      <td>62.299999</td>\n",
       "      <td>56.998524</td>\n",
       "      <td>21340000</td>\n",
       "    </tr>\n",
       "    <tr>\n",
       "      <th>2017-01-05</th>\n",
       "      <td>62.189999</td>\n",
       "      <td>62.660000</td>\n",
       "      <td>62.029999</td>\n",
       "      <td>62.299999</td>\n",
       "      <td>56.998524</td>\n",
       "      <td>24876000</td>\n",
       "    </tr>\n",
       "    <tr>\n",
       "      <th>2017-01-06</th>\n",
       "      <td>62.299999</td>\n",
       "      <td>63.150002</td>\n",
       "      <td>62.040001</td>\n",
       "      <td>62.840000</td>\n",
       "      <td>57.492577</td>\n",
       "      <td>19922900</td>\n",
       "    </tr>\n",
       "    <tr>\n",
       "      <th>2017-01-09</th>\n",
       "      <td>62.759998</td>\n",
       "      <td>63.080002</td>\n",
       "      <td>62.540001</td>\n",
       "      <td>62.639999</td>\n",
       "      <td>57.309586</td>\n",
       "      <td>20382700</td>\n",
       "    </tr>\n",
       "  </tbody>\n",
       "</table>\n",
       "</div>"
      ],
      "text/plain": [
       "                 Open       High        Low      Close  Adj Close    Volume\n",
       "Date                                                                       \n",
       "2017-01-03  62.790001  62.840000  62.130001  62.580002  57.254711  20694100\n",
       "2017-01-04  62.480000  62.750000  62.119999  62.299999  56.998524  21340000\n",
       "2017-01-05  62.189999  62.660000  62.029999  62.299999  56.998524  24876000\n",
       "2017-01-06  62.299999  63.150002  62.040001  62.840000  57.492577  19922900\n",
       "2017-01-09  62.759998  63.080002  62.540001  62.639999  57.309586  20382700"
      ]
     },
     "execution_count": 104,
     "metadata": {},
     "output_type": "execute_result"
    }
   ],
   "source": [
    "import numpy as np\n",
    "import pandas as pd\n",
    "import matplotlib\n",
    "import matplotlib.pyplot as plt\n",
    "import yfinance as yf\n",
    "\n",
    "MSFT = yf.download(tickers=\"MSFT\", start=\"2017-01-01\", interval=\"1d\")\n",
    "MSFT.head()"
   ]
  },
  {
   "cell_type": "markdown",
   "metadata": {},
   "source": [
    "**WRITE THE NULL AND THE ALTERNATIVE HYPOTHESIS.**"
   ]
  },
  {
   "cell_type": "code",
   "execution_count": 105,
   "metadata": {},
   "outputs": [
    {
     "name": "stdout",
     "output_type": "stream",
     "text": [
      "MEAN:  0.0010256449629577227 \n",
      "STD:  0.018166003512463114\n"
     ]
    },
    {
     "data": {
      "image/png": "[encoded data removed]",
      "text/plain": [
       "<Figure size 640x480 with 1 Axes>"
      ]
     },
     "metadata": {},
     "output_type": "display_data"
    }
   ],
   "source": [
    "#H0: The Null Hypothesis\n",
    "MSFT['r'] = np.log(MSFT['Adj Close']) - np.log(MSFT['Adj Close'].shift(1))\n",
    "plt.hist(MSFT['r'], bins=20)\n",
    "\n",
    "\n",
    "mean = MSFT['r'].mean()\n",
    "std = MSFT['r'].std()\n",
    "\n",
    "print(\"MEAN: \", mean, \"\\nSTD: \", std)\n",
    "\n",
    "plt.show()"
   ]
  },
  {
   "cell_type": "markdown",
   "metadata": {},
   "source": [
    "**CALCULATE THE STANDARD ERROR, WHICH IS THE STANDARD DEVIATION OF THE VARIABLE OF STUDY.**"
   ]
  },
  {
   "cell_type": "code",
   "execution_count": 111,
   "metadata": {},
   "outputs": [
    {
     "data": {
      "text/plain": [
       "0.0004449299019456483"
      ]
     },
     "execution_count": 111,
     "metadata": {},
     "output_type": "execute_result"
    }
   ],
   "source": [
    "std_error = std/np.sqrt(MSFT['r'].count())\n",
    "std_error"
   ]
  },
  {
   "cell_type": "markdown",
   "metadata": {},
   "source": [
    "**CALCULATE THE t-statistic (t-value). EXPLAIN/INTERPRET THE t-statistic.**"
   ]
  },
  {
   "cell_type": "code",
   "execution_count": 112,
   "metadata": {},
   "outputs": [
    {
     "name": "stdout",
     "output_type": "stream",
     "text": [
      "T-Statistic:  2.305183262515391\n"
     ]
    }
   ],
   "source": [
    "t_statistic = (mean - 0) / std_error\n",
    "print(\"T-Statistic: \", t_statistic)"
   ]
  },
  {
   "cell_type": "markdown",
   "metadata": {},
   "source": [
    "**CALCULATE THE 95% CONFIDENCE INTERVAL OF THE SAMPLE MEAN**"
   ]
  },
  {
   "cell_type": "code",
   "execution_count": 113,
   "metadata": {},
   "outputs": [
    {
     "name": "stdout",
     "output_type": "stream",
     "text": [
      "MIN T:  0.00013578515906642608 \n",
      "MAX T:  0.0019155047668490193\n"
     ]
    }
   ],
   "source": [
    "min_t = mean - (2 * std_error)\n",
    "max_t = mean + (2 * std_error)\n",
    "print(\"MIN T: \", min_t,\"\\nMAX T: \", max_t)"
   ]
  },
  {
   "cell_type": "markdown",
   "metadata": {},
   "source": [
    "**WRITE YOUR CONCLUSION OF THE t-TEST**"
   ]
  },
  {
   "cell_type": "markdown",
   "metadata": {},
   "source": [
    "CON LOS RESULTADOS DE ESTE T-TES, PODEMOS CONCLUIR QUE EL VALOR MEDIO DE LOS RETORNOS ES DE 0.00102 LO QUE NOS INDICA QUE EN PROMEDIO HAY UN LEVE RENDIMIENTO POSITIVO AL HACER LAS INVERSIONES EN MSFT. EL INTERVALO DE CONFIANZA VA DE 0.000135 A 0.001915 NOS DICE QUE CON UN NIVEL DE CONFIANZA DEL 95% PODEMOS VER QUE LA MEDIA ESTA EN ESE RANGO. EN CONCLUSION, CON LOS RESULTADOS DEL T-TEST PODEMOS VER QUE LOS RETORNOS MUESTRAN UN RENDIMIENTO POSITIVO EN PROMEDIO.  "
   ]
  }
 ],
 "metadata": {
  "kernelspec": {
   "display_name": "Python 3",
   "language": "python",
   "name": "python3"
  },
  "language_info": {
   "codemirror_mode": {
    "name": "ipython",
    "version": 3
   },
   "file_extension": ".py",
   "mimetype": "text/x-python",
   "name": "python",
   "nbconvert_exporter": "python",
   "pygments_lexer": "ipython3",
   "version": "3.9.6"
  },
  "orig_nbformat": 4
 },
 "nbformat": 4,
 "nbformat_minor": 2
}
