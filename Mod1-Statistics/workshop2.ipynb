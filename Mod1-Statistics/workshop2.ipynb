{
 "cells": [
  {
   "cell_type": "markdown",
   "metadata": {},
   "source": [
    "# Workshop 2, Advanced AI - Statistics Module\n",
    "\n",
    "Student: Ricardo Andrés Cáceres Villibord\n",
    "\n",
    "Date: 16 de Agosto del 2023 \n",
    "\n",
    "***Abstract***\n",
    "- *In this workshop we learn about a) The Central Limit Theore and b) Hypothesis Testing.*"
   ]
  },
  {
   "cell_type": "markdown",
   "metadata": {},
   "source": [
    "### 2.2 Monte Carlo Simulation\n",
    "\n",
    "*We have to install the symbulate Python package* (`pip install symbulate`)"
   ]
  },
  {
   "cell_type": "code",
   "execution_count": 4,
   "metadata": {},
   "outputs": [],
   "source": [
    "from symbulate import *\n",
    "import matplotlib\n",
    "import matplotlib.pyplot as plt"
   ]
  },
  {
   "cell_type": "markdown",
   "metadata": {},
   "source": [
    "### 2.2.1 Simulationg numbers with the UNIFORM probability distribution\n",
    "\n",
    "We define a uniform random variable X and simulate 10,000 uniform random numbers with values 0 to 40:"
   ]
  },
  {
   "cell_type": "code",
   "execution_count": 5,
   "metadata": {},
   "outputs": [
    {
     "data": {
      "image/png": "[encoded data removed]",
      "text/plain": [
       "<Figure size 640x480 with 1 Axes>"
      ]
     },
     "metadata": {},
     "output_type": "display_data"
    }
   ],
   "source": [
    "# clear the plot space\n",
    "plt.clf()\n",
    "#Define the probability type of funciton as uniform (probability space)\n",
    "P = Uniform(0,40)\n",
    "# Define X as a random variable of the type P (uniform)\n",
    "X = RV(P)\n",
    "# Simulate the values of X and save them in the x array\n",
    "x = X.sim(10000)\n",
    "x.plot()\n",
    "plt.show()"
   ]
  },
  {
   "cell_type": "markdown",
   "metadata": {},
   "source": [
    "### 2.2.2 **CHALLENGE**\n",
    "\n",
    "- a) CALCULATE THE MEAN AND STANDARD DEVIATION OF THIS SIMULATED UNIFORM x VARIABLE. HOW CLOSE WERE THESE MEAN AND STANDARD DEVIATION FROM THE THEORETICAL MEAN AND STANDARD DEVIATION?"
   ]
  },
  {
   "cell_type": "code",
   "execution_count": 6,
   "metadata": {},
   "outputs": [
    {
     "name": "stdout",
     "output_type": "stream",
     "text": [
      "Theoretical Mean:  20.0 \n",
      "Theoretical Std:  11.547005383792516\n",
      "\n",
      "Mean:  19.79100583005016 \n",
      "Std:  11.446228625713406\n",
      "\n",
      "Difference in Mean: 0.20899416994983966 \n",
      "Difference in Standard Deviation: 0.10077675807911035\n"
     ]
    }
   ],
   "source": [
    "# Simulated mean and standard deviation\n",
    "x_mean = x.mean()\n",
    "x_std = x.sd()\n",
    "\n",
    "# Theoretical mean and standard deviation\n",
    "theoretical_mean = (0 + 40) / 2\n",
    "theoretical_std = (40 - 0) / sqrt(12)\n",
    "\n",
    "print(\"Theoretical Mean: \", theoretical_mean, \"\\nTheoretical Std: \", theoretical_std )\n",
    "print(\"\\nMean: \", x_mean, \"\\nStd: \", x_std)\n",
    "\n",
    "# Compare simulated and theoretical results\n",
    "mean_difference = abs(x_mean - theoretical_mean)\n",
    "std_difference = abs(x_std - theoretical_std)\n",
    "\n",
    "print(\"\\nDifference in Mean:\", mean_difference, \"\\nDifference in Standard Deviation:\", std_difference)"
   ]
  },
  {
   "cell_type": "markdown",
   "metadata": {},
   "source": [
    "*PODEMOS OBSERVAR VALORES MUY CERCANOS EN EL PROMEDIOL Y LA DESVIACION DE LOS VALORES DE LA SIMULACION CON LOS THEORETICOS*"
   ]
  },
  {
   "cell_type": "markdown",
   "metadata": {},
   "source": [
    "\n",
    "- b) INTERPET THE ABOVE HISTOGRAM. WHAT DO YOU SEE? EXPLAIN WITH YOUR WORDS."
   ]
  },
  {
   "cell_type": "markdown",
   "metadata": {},
   "source": [
    "*EN EL HISTOGRAMA PODEMOS OBSERVAR QUE TODOS LOS VALORES DE LA VARIABLE X (DE 0 A 40) SON TODOS DISTRIBUIDOS DE MANERA UNIFORME, ES DECIR TODOS TIENEN UNA DENSIDAD PARECIDA*"
   ]
  },
  {
   "cell_type": "markdown",
   "metadata": {},
   "source": [
    "\n",
    "Now generate 10,000 groups of 25 uniform random variables to end up in a matrix of 10,000 rows and 25 columns:"
   ]
  },
  {
   "cell_type": "code",
   "execution_count": 7,
   "metadata": {},
   "outputs": [],
   "source": [
    "# Define the probability space as a vector of 25 uniform random numnbers:\n",
    "P = Uniform(0,40) ** 25\n",
    "# Define XVECTOR as a vector of random variables with 25 random vaalues\n",
    "XVECTOR = RV(P)\n",
    "# Simulate 10,000 vectors to get a matrix\n",
    "xmatrix = XVECTOR.sim(10000)"
   ]
  },
  {
   "cell_type": "markdown",
   "metadata": {},
   "source": [
    "Now the matrix will have 10,000 rows and 25 columns of uniform random numbers between 0 and 40:"
   ]
  },
  {
   "cell_type": "code",
   "execution_count": 8,
   "metadata": {},
   "outputs": [
    {
     "data": {
      "text/html": [
       "\n",
       "    <table>\n",
       "      <thead>\n",
       "        <th width=\"10%\">Index</th>\n",
       "        <th width=\"90%\">Result</th>\n",
       "      </thead>\n",
       "      <tbody>\n",
       "        \n",
       "        <tr>\n",
       "          <td>0</td><td>(34.351945041235425, 26.069028985136917, 16.647550332465958, 14.936554219603586, 35.090975939305764,...</td>\n",
       "        </tr>\n",
       "        \n",
       "        <tr>\n",
       "          <td>1</td><td>(19.094594126005017, 20.157089581920715, 31.103978530556088, 5.661350649397292, 12.842671995200785, ...</td>\n",
       "        </tr>\n",
       "        \n",
       "        <tr>\n",
       "          <td>2</td><td>(14.746570834353857, 8.635102210608743, 1.184267359508251, 25.429622883235943, 17.136070397287142, ....</td>\n",
       "        </tr>\n",
       "        \n",
       "        <tr>\n",
       "          <td>3</td><td>(10.764936164131878, 1.90120840958802, 1.520584451020346, 15.47983753002287, 10.249580620169008, ......</td>\n",
       "        </tr>\n",
       "        \n",
       "        <tr>\n",
       "          <td>4</td><td>(18.939574608777768, 0.15893508737925277, 20.812992330080014, 17.277274320474167, 39.85315333884402,...</td>\n",
       "        </tr>\n",
       "        \n",
       "        <tr>\n",
       "          <td>5</td><td>(34.306810949357796, 28.09455184765134, 27.30857666412057, 35.124730395256464, 33.74399061669482, .....</td>\n",
       "        </tr>\n",
       "        \n",
       "        <tr>\n",
       "          <td>6</td><td>(9.395537272709182, 14.464174284125505, 11.245454378679941, 21.917085025830673, 17.1161537894988, .....</td>\n",
       "        </tr>\n",
       "        \n",
       "        <tr>\n",
       "          <td>7</td><td>(8.750728946031323, 16.36299780733121, 15.378279692559014, 30.739965688137517, 20.336630098573877, ....</td>\n",
       "        </tr>\n",
       "        \n",
       "        <tr>\n",
       "          <td>8</td><td>(36.76457606868503, 23.64350039634294, 0.690238952713349, 21.293209930811162, 9.805984681995996, ......</td>\n",
       "        </tr>\n",
       "        <tr><td>...</td><td>...</td></tr>\n",
       "        <tr>\n",
       "          <td>9999</td><td>(35.486531515197946, 6.004904414200252, 36.57434418202354, 39.00440455574331, 7.374551948943404, ......</td>\n",
       "        </tr>\n",
       "        \n",
       "      </tbody>\n",
       "    </table>\n",
       "        "
      ],
      "text/plain": [
       "Index Result\n",
       "0     (34.351945041235425, 26.069028985136917, 16.647550332465958, 14.936554219603586, 35.090975939305764, ..., 17.569770616092434)\n",
       "1     (19.094594126005017, 20.157089581920715, 31.103978530556088, 5.661350649397292, 12.842671995200785, ..., 19.473713701697935)\n",
       "2     (14.746570834353857, 8.635102210608743, 1.184267359508251, 25.429622883235943, 17.136070397287142, ..., 33.197661401847455)\n",
       "3     (10.764936164131878, 1.90120840958802, 1.520584451020346, 15.47983753002287, 10.249580620169008, ..., 17.40570768377056)\n",
       "4     (18.939574608777768, 0.15893508737925277, 20.812992330080014, 17.277274320474167, 39.85315333884402, ..., 14.87163772920228)\n",
       "5     (34.306810949357796, 28.09455184765134, 27.30857666412057, 35.124730395256464, 33.74399061669482, ..., 15.780851649932558)\n",
       "6     (9.395537272709182, 14.464174284125505, 11.245454378679941, 21.917085025830673, 17.1161537894988, ..., 33.309553357608756)\n",
       "7     (8.750728946031323, 16.36299780733121, 15.378279692559014, 30.739965688137517, 20.336630098573877, ..., 5.885702755182347)\n",
       "8     (36.76457606868503, 23.64350039634294, 0.690238952713349, 21.293209930811162, 9.805984681995996, ..., 18.0170303243947)\n",
       "....  ........................................................................................................................\n",
       "9999  (35.486531515197946, 6.004904414200252, 36.57434418202354, 39.00440455574331, 7.374551948943404, ..., 8.650184952916584)"
      ]
     },
     "execution_count": 8,
     "metadata": {},
     "output_type": "execute_result"
    }
   ],
   "source": [
    "xmatrix"
   ]
  },
  {
   "cell_type": "markdown",
   "metadata": {},
   "source": [
    "Now we get the mean of each row, so we end up with 10,000 sample means:"
   ]
  },
  {
   "cell_type": "code",
   "execution_count": 9,
   "metadata": {},
   "outputs": [
    {
     "data": {
      "text/html": [
       "\n",
       "    <table>\n",
       "      <thead>\n",
       "        <th width=\"10%\">Index</th>\n",
       "        <th width=\"90%\">Result</th>\n",
       "      </thead>\n",
       "      <tbody>\n",
       "        \n",
       "        <tr>\n",
       "          <td>0</td><td>18.9585064683738</td>\n",
       "        </tr>\n",
       "        \n",
       "        <tr>\n",
       "          <td>1</td><td>17.420755126991057</td>\n",
       "        </tr>\n",
       "        \n",
       "        <tr>\n",
       "          <td>2</td><td>21.569998054173503</td>\n",
       "        </tr>\n",
       "        \n",
       "        <tr>\n",
       "          <td>3</td><td>18.727296852094895</td>\n",
       "        </tr>\n",
       "        \n",
       "        <tr>\n",
       "          <td>4</td><td>20.701264191222418</td>\n",
       "        </tr>\n",
       "        \n",
       "        <tr>\n",
       "          <td>5</td><td>20.76815577545865</td>\n",
       "        </tr>\n",
       "        \n",
       "        <tr>\n",
       "          <td>6</td><td>18.58793483270745</td>\n",
       "        </tr>\n",
       "        \n",
       "        <tr>\n",
       "          <td>7</td><td>16.946878178934497</td>\n",
       "        </tr>\n",
       "        \n",
       "        <tr>\n",
       "          <td>8</td><td>17.58618063106078</td>\n",
       "        </tr>\n",
       "        <tr><td>...</td><td>...</td></tr>\n",
       "        <tr>\n",
       "          <td>9999</td><td>22.629584952251772</td>\n",
       "        </tr>\n",
       "        \n",
       "      </tbody>\n",
       "    </table>\n",
       "        "
      ],
      "text/plain": [
       "Index Result\n",
       "0     18.9585064683738\n",
       "1     17.420755126991057\n",
       "2     21.569998054173503\n",
       "3     18.727296852094895\n",
       "4     20.701264191222418\n",
       "5     20.76815577545865\n",
       "6     18.58793483270745\n",
       "7     16.946878178934497\n",
       "8     17.58618063106078\n",
       "....  ..................\n",
       "9999  22.629584952251772"
      ]
     },
     "execution_count": 9,
     "metadata": {},
     "output_type": "execute_result"
    }
   ],
   "source": [
    "# The 2nd parameter is the mathematical operation applied to each row of the random vector\n",
    "# Simulate 10,000 means of each random vector of 25 uniform distributed numbers: \n",
    "xmean = RV(P,mean).sim(10000)\n",
    "xmean"
   ]
  },
  {
   "cell_type": "markdown",
   "metadata": {},
   "source": [
    "Now do a histogram of these sample means that come from a UNIFORM distribution"
   ]
  },
  {
   "cell_type": "code",
   "execution_count": 10,
   "metadata": {},
   "outputs": [
    {
     "data": {
      "image/png": "[encoded data removed]",
      "text/plain": [
       "<Figure size 640x480 with 1 Axes>"
      ]
     },
     "metadata": {},
     "output_type": "display_data"
    }
   ],
   "source": [
    "plt.clf()\n",
    "xmean.plot()\n",
    "plt.show()"
   ]
  },
  {
   "cell_type": "markdown",
   "metadata": {},
   "source": [
    "### 2.2.2 **CHALLENGE**\n",
    "\n",
    "- A) **CALCULATE THE MEAN AND STANDARD DEVIATION OF THE xmean VARIABLE. HOW SIMILAR OR DIFFERENT ARE THESE VALUES FROM THE MEAN AND STANDARD DEVIATION OF x?**"
   ]
  },
  {
   "cell_type": "code",
   "execution_count": 14,
   "metadata": {},
   "outputs": [
    {
     "name": "stdout",
     "output_type": "stream",
     "text": [
      "Mean of xmean:  20.00708101931597 \n",
      "Standard Deviation of xmean:  2.3154377179968457\n"
     ]
    }
   ],
   "source": [
    "mean_of_xmean = xmean.mean()\n",
    "xmean_std = xmean.sd()\n",
    "print(\"Mean of xmean: \", mean_of_xmean, \"\\nStandard Deviation of xmean: \", xmean_std)\n"
   ]
  },
  {
   "cell_type": "markdown",
   "metadata": {},
   "source": [
    "*CON LOS VALORES DE XMEAN Y LA DESVIACION ESTANDAR DE XMEAN, NOS PODEMOS DAR CUENTA QUE EL MEAN NO CAMBIA MUCHO A LOS VALORES DE X. SIN EMBARGO, CUANDO MIRAMOS EL VALOR DE LA DESVIACION ESTANDAR DE XMEAN CON RESPECTO A LA X, SI VARIA DE MANERA DRASTICA.*"
   ]
  },
  {
   "cell_type": "markdown",
   "metadata": {},
   "source": [
    "- B) **WHAT DO YOU SEE IN THE ABOVE HISTOGRAM? DOES THE HISTOGRAM OF SAMPLE MEANS OF UNIFORM RANDOM VARIABLE LOOK LIKE A UNIFORM DISTRIBUTED VARIABLE? DO YOU SEE A LOGIC? BRIEFLY EXPLAIN WHAT YOU THINK**"
   ]
  },
  {
   "cell_type": "markdown",
   "metadata": {},
   "source": [
    "*EN EL HISTOGRAMA QUE ESTA ARRIBA PODEMOS OBBSERVAR COMO SE PRESENTAN LOS VALOR DE XMEAN COMO UNA CAMPANA DE GAUSS. CON ESTO PODEMOS OBSERVAR QUE LOS VALORES DE X TIENDEN A AGRUPARSE ALREDEDOR DE UN VALOR CENTRAL, EN ESTE CASO SIENDO ALREDEDOR DE 20*"
   ]
  },
  {
   "cell_type": "markdown",
   "metadata": {},
   "source": [
    "**Now plot both variables in the same plot; the original x uniform variable and the xsample variable (the sample means of x).**"
   ]
  },
  {
   "cell_type": "code",
   "execution_count": 21,
   "metadata": {},
   "outputs": [
    {
     "data": {
      "image/png": "[encoded data removed]",
      "text/plain": [
       "<Figure size 640x480 with 1 Axes>"
      ]
     },
     "metadata": {},
     "output_type": "display_data"
    }
   ],
   "source": [
    "plt.clf()\n",
    "xmean.plot()\n",
    "x.plot()\n",
    "plt.show()"
   ]
  },
  {
   "cell_type": "markdown",
   "metadata": {},
   "source": [
    "- C) **WHAT DO YOU SEE? HOW THE HISTOGRAM OF X DIFFERS FROM THE HISTOGRAM OF THE SAMPLES OF X?**"
   ]
  },
  {
   "cell_type": "markdown",
   "metadata": {},
   "source": [
    "*EN EL HISTOGRAMA PODEMOS OBSERVAR LA CAMPANA DE GAUSS QUE SE CREA AL GRAFICAR EL MEAN DE X, Y TAMBIEN EN COLOR NARANJA PODEMOS OBSERVAR EL SET DE DATOS ALEATORIOS DEL 0 AL 40 Y LA DENSIDAD QUE ESTOS NUMEROS TIENEN.*"
   ]
  },
  {
   "cell_type": "markdown",
   "metadata": {},
   "source": [
    "### 2.2.4 **Simulating Numbers with the NORMAL probability distribution**\n",
    "\n",
    "Let’s simulate a normal distributed variable Y with mean = 20 and standard devation = 10."
   ]
  },
  {
   "cell_type": "code",
   "execution_count": 27,
   "metadata": {},
   "outputs": [
    {
     "data": {
      "image/png": "[encoded data removed]",
      "text/plain": [
       "<Figure size 640x480 with 1 Axes>"
      ]
     },
     "metadata": {},
     "output_type": "display_data"
    }
   ],
   "source": [
    "# clear the plot space:\n",
    "plt.clf()\n",
    "# Define the probability type of function as uniform (probability space)\n",
    "P = Normal(mean=20, sd=10)\n",
    "# Define Y as a random variable of the type P (normal)\n",
    "Y =RV(P)\n",
    "# Simulate 10,000 values of Y and save the in the x array: \n",
    "y=Y.sim(10000)\n",
    "y.plot()\n",
    "plt.show()"
   ]
  },
  {
   "cell_type": "markdown",
   "metadata": {},
   "source": [
    "### 2.2.5 **CHALLENGE**"
   ]
  },
  {
   "cell_type": "markdown",
   "metadata": {},
   "source": [
    "**- A) CALCULATE THE MEAN AND STANDARD DEVIATION OF THIS RANDOM y VARIABLE. HOW SIMILAR OR DIFFERENT ARE THESE VALUES FROM THE MEAN AND STANDARD DEVIATION OF THE THEORETICAL MEAN (20) AND THE THEORETICAL STANDARD DEVIATION (10)?**"
   ]
  },
  {
   "cell_type": "code",
   "execution_count": 33,
   "metadata": {},
   "outputs": [
    {
     "name": "stdout",
     "output_type": "stream",
     "text": [
      "Y mean:  20.038343613664807 \n",
      "Y STD:  9.840710676327724\n",
      "Diferencia mean:  0.03834361366480721 \n",
      "Diferencia std:  0.15928932367227588\n"
     ]
    }
   ],
   "source": [
    "y_mean = y.mean()\n",
    "y_std = y.sd()\n",
    "\n",
    "theoretical_ymean = 20\n",
    "theoretical_ystd = 10\n",
    "\n",
    "print(\"Y mean: \", y_mean, \"\\nY STD: \", y_std)\n",
    "print(\"Diferencia mean: \", abs(y_mean - theoretical_ymean), \"\\nDiferencia std: \", abs(y_std - theoretical_ystd))"
   ]
  },
  {
   "cell_type": "markdown",
   "metadata": {},
   "source": [
    "*PODEMOS OBSERVAR OBSERVAR QUE LOS VALORES TEORETICOS SON CASI IGUALES A LOS OBTENIDOS. TENIENDO SOLO UNA DIFERENCIA DE 0.038 EN EL MEAN Y 0.159 EN LA DESVIACION ESTANDAR*"
   ]
  },
  {
   "cell_type": "markdown",
   "metadata": {},
   "source": [
    "- **B)WHAT DO YOU SEE? INTERPRET THE HISTOGRAM WITH YOUR WORDS.**\n",
    "  \n",
    "Now generate 10,000 groups of 25 NORMAL random variables with mean=20 and SD=10. You will end up with a matrix of 10,000 rows and 25 columns:"
   ]
  },
  {
   "cell_type": "code",
   "execution_count": 34,
   "metadata": {},
   "outputs": [],
   "source": [
    "# Define the probability space P as a vector of 25 normal random numbers:\n",
    "P = Normal(mean=20, sd=10) ** 25\n",
    "# Define RANDOMVECTOR as a vector of 25 random variables in the Probability space P \n",
    "RANDOMVECTOR = RV(P)\n",
    "# Simulate 10,000 random vectors with this distribution and save the in ymatrix: \n",
    "ymatrix=RANDOMVECTOR.sim(10000)"
   ]
  },
  {
   "cell_type": "markdown",
   "metadata": {},
   "source": [
    "Now ymatrix will have 10,000 rows and 25 columns of NORMAL random numbers with mean=20 and SD=10"
   ]
  },
  {
   "cell_type": "code",
   "execution_count": 35,
   "metadata": {},
   "outputs": [
    {
     "data": {
      "text/html": [
       "\n",
       "    <table>\n",
       "      <thead>\n",
       "        <th width=\"10%\">Index</th>\n",
       "        <th width=\"90%\">Result</th>\n",
       "      </thead>\n",
       "      <tbody>\n",
       "        \n",
       "        <tr>\n",
       "          <td>0</td><td>(9.890753829557912, 24.890196549659166, 9.491549448313242, -3.0427693371155193, 18.173413108158563, ...</td>\n",
       "        </tr>\n",
       "        \n",
       "        <tr>\n",
       "          <td>1</td><td>(40.3772677650405, 16.557049985686664, 23.862139625532336, -4.177683101136967, 37.52692180702404, .....</td>\n",
       "        </tr>\n",
       "        \n",
       "        <tr>\n",
       "          <td>2</td><td>(7.195970279216763, 5.2351854797684805, 15.019453096488048, 15.600763756426389, 17.83253265350488, ....</td>\n",
       "        </tr>\n",
       "        \n",
       "        <tr>\n",
       "          <td>3</td><td>(21.59586229263496, 41.20316058139404, 15.741545740712837, 13.171007948872617, 14.98585773793054, .....</td>\n",
       "        </tr>\n",
       "        \n",
       "        <tr>\n",
       "          <td>4</td><td>(9.765187345681497, 10.924208649363647, 23.435638921368977, 30.154061552734625, 17.489210376943284, ...</td>\n",
       "        </tr>\n",
       "        \n",
       "        <tr>\n",
       "          <td>5</td><td>(21.631889544930754, 34.987286526996364, 36.63405366880124, 22.648030651526405, 21.179800352870505, ...</td>\n",
       "        </tr>\n",
       "        \n",
       "        <tr>\n",
       "          <td>6</td><td>(26.40901296635508, 12.826894414925873, 28.764431351248128, 11.770285235052338, 33.3127995366328, .....</td>\n",
       "        </tr>\n",
       "        \n",
       "        <tr>\n",
       "          <td>7</td><td>(20.004639329432315, 32.11666243118931, 19.752204157298255, 15.22666701702235, 23.739924904539237, ....</td>\n",
       "        </tr>\n",
       "        \n",
       "        <tr>\n",
       "          <td>8</td><td>(-8.888720023311315, 20.386784337790818, 27.768689012741802, 34.51506477254431, 21.35852338778323, ....</td>\n",
       "        </tr>\n",
       "        <tr><td>...</td><td>...</td></tr>\n",
       "        <tr>\n",
       "          <td>9999</td><td>(16.504378134559403, 29.67192291703992, 21.784357857484324, 19.259688040852126, 51.83388891672754, ....</td>\n",
       "        </tr>\n",
       "        \n",
       "      </tbody>\n",
       "    </table>\n",
       "        "
      ],
      "text/plain": [
       "Index Result\n",
       "0     (9.890753829557912, 24.890196549659166, 9.491549448313242, -3.0427693371155193, 18.173413108158563, ..., 13.928375595883423)\n",
       "1     (40.3772677650405, 16.557049985686664, 23.862139625532336, -4.177683101136967, 37.52692180702404, ..., 1.2959090373179265)\n",
       "2     (7.195970279216763, 5.2351854797684805, 15.019453096488048, 15.600763756426389, 17.83253265350488, ..., 34.20352070291195)\n",
       "3     (21.59586229263496, 41.20316058139404, 15.741545740712837, 13.171007948872617, 14.98585773793054, ..., 15.002670452735172)\n",
       "4     (9.765187345681497, 10.924208649363647, 23.435638921368977, 30.154061552734625, 17.489210376943284, ..., 10.360965533326523)\n",
       "5     (21.631889544930754, 34.987286526996364, 36.63405366880124, 22.648030651526405, 21.179800352870505, ..., 31.808764361810056)\n",
       "6     (26.40901296635508, 12.826894414925873, 28.764431351248128, 11.770285235052338, 33.3127995366328, ..., 18.729288405052703)\n",
       "7     (20.004639329432315, 32.11666243118931, 19.752204157298255, 15.22666701702235, 23.739924904539237, ..., 40.60656058213881)\n",
       "8     (-8.888720023311315, 20.386784337790818, 27.768689012741802, 34.51506477254431, 21.35852338778323, ..., 32.30250821999733)\n",
       "....  ...........................................................................................................................\n",
       "9999  (16.504378134559403, 29.67192291703992, 21.784357857484324, 19.259688040852126, 51.83388891672754, ..., 10.601011662341826)"
      ]
     },
     "execution_count": 35,
     "metadata": {},
     "output_type": "execute_result"
    }
   ],
   "source": [
    "ymatrix"
   ]
  },
  {
   "cell_type": "markdown",
   "metadata": {},
   "source": [
    "Now we get the mean of each vector (row) to get 10,000 sample means:"
   ]
  },
  {
   "cell_type": "code",
   "execution_count": 39,
   "metadata": {},
   "outputs": [
    {
     "data": {
      "text/html": [
       "\n",
       "    <table>\n",
       "      <thead>\n",
       "        <th width=\"10%\">Index</th>\n",
       "        <th width=\"90%\">Result</th>\n",
       "      </thead>\n",
       "      <tbody>\n",
       "        \n",
       "        <tr>\n",
       "          <td>0</td><td>21.03067772628445</td>\n",
       "        </tr>\n",
       "        \n",
       "        <tr>\n",
       "          <td>1</td><td>17.900759222533384</td>\n",
       "        </tr>\n",
       "        \n",
       "        <tr>\n",
       "          <td>2</td><td>20.68187500930012</td>\n",
       "        </tr>\n",
       "        \n",
       "        <tr>\n",
       "          <td>3</td><td>18.228822049420664</td>\n",
       "        </tr>\n",
       "        \n",
       "        <tr>\n",
       "          <td>4</td><td>21.12136539622247</td>\n",
       "        </tr>\n",
       "        \n",
       "        <tr>\n",
       "          <td>5</td><td>17.969646364806568</td>\n",
       "        </tr>\n",
       "        \n",
       "        <tr>\n",
       "          <td>6</td><td>21.90637704792261</td>\n",
       "        </tr>\n",
       "        \n",
       "        <tr>\n",
       "          <td>7</td><td>24.033386827322587</td>\n",
       "        </tr>\n",
       "        \n",
       "        <tr>\n",
       "          <td>8</td><td>19.037921808056595</td>\n",
       "        </tr>\n",
       "        <tr><td>...</td><td>...</td></tr>\n",
       "        <tr>\n",
       "          <td>9999</td><td>20.725424502219603</td>\n",
       "        </tr>\n",
       "        \n",
       "      </tbody>\n",
       "    </table>\n",
       "        "
      ],
      "text/plain": [
       "Index Result\n",
       "0     21.03067772628445\n",
       "1     17.900759222533384\n",
       "2     20.68187500930012\n",
       "3     18.228822049420664\n",
       "4     21.12136539622247\n",
       "5     17.969646364806568\n",
       "6     21.90637704792261\n",
       "7     24.033386827322587\n",
       "8     19.037921808056595\n",
       "....  ..................\n",
       "9999  20.725424502219603"
      ]
     },
     "execution_count": 39,
     "metadata": {},
     "output_type": "execute_result"
    }
   ],
   "source": [
    "# The 2nd parameter is the mathematical operation applied to each row of the random vector\n",
    "# Simulate 10,000 means of each random vector of 25 uniform distributed numbers: \n",
    "ymean = RV(P,mean).sim(10000)\n",
    "ymean"
   ]
  },
  {
   "cell_type": "markdown",
   "metadata": {},
   "source": [
    "Now do a histogram of these sample means of Y."
   ]
  },
  {
   "cell_type": "code",
   "execution_count": 37,
   "metadata": {},
   "outputs": [
    {
     "data": {
      "image/png": "[encoded data removed]",
      "text/plain": [
       "<Figure size 640x480 with 1 Axes>"
      ]
     },
     "metadata": {},
     "output_type": "display_data"
    }
   ],
   "source": [
    "plt.clf()\n",
    "ymean.plot()\n",
    "plt.show()"
   ]
  },
  {
   "cell_type": "markdown",
   "metadata": {},
   "source": [
    "*EN EL HISTOGRAMA DE LOS VALORES DE Y, PODEMOS OBSERVAR UNA CAMPANA DE GAUSS LA CAUL NOS MUESTRA DONDE TIENDEN A AGRUPARSE LOS VALORES, QUE EN ESTE CASO ES ALREDEDOR DE UN VALOR CENTRAL QUE ES APROXIMADAMENTE 20*"
   ]
  },
  {
   "cell_type": "markdown",
   "metadata": {},
   "source": [
    "### **2.2.6 CHALLENGE**\n",
    "\n",
    "- **A) CALCULATE THE MEAN AND STANDARD DEVIATION OF THE ymean VARIABLE. HOW SIMILAR OR DIFFERENT ARE THESE VALUES FROM THE MEAN AND STANDARD DEVIATION OF y?**"
   ]
  },
  {
   "cell_type": "code",
   "execution_count": 41,
   "metadata": {},
   "outputs": [
    {
     "name": "stdout",
     "output_type": "stream",
     "text": [
      "MEAN OF ymean:  20.018499127878798 \n",
      "STD of ystd:  2.0043917052622424\n"
     ]
    }
   ],
   "source": [
    "mean_of_ymean = ymean.mean()\n",
    "mean_of_ystd = ymean.sd()\n",
    "print(\"MEAN OF ymean: \", mean_of_ymean, \"\\nSTD of ystd: \", mean_of_ystd)"
   ]
  },
  {
   "cell_type": "markdown",
   "metadata": {},
   "source": []
  },
  {
   "cell_type": "markdown",
   "metadata": {},
   "source": [
    "*EL VALOR DEL MEAN SE MANTIENE CASI IGUAL, SIN EMBARGO EL VALOR DE LA DESVIACION ESTANDAR SI VARIA MUCHO MAS SIENDO EL DE LA DESVIACION ESTANDAR DE YMEAN, MUCHO MENOR*"
   ]
  },
  {
   "cell_type": "markdown",
   "metadata": {},
   "source": [
    "- **B) INTERPRET THE ABOVE HISTOGRAM OF THE SAMPLES OF y**\n",
    "\n",
    "Now plot both histograms, the histogram of y and the histogram of ymean:"
   ]
  },
  {
   "cell_type": "code",
   "execution_count": 42,
   "metadata": {},
   "outputs": [
    {
     "data": {
      "image/png": "[encoded data removed]",
      "text/plain": [
       "<Figure size 640x480 with 1 Axes>"
      ]
     },
     "metadata": {},
     "output_type": "display_data"
    }
   ],
   "source": [
    "plt.clf()\n",
    "ymean.plot()\n",
    "y.plot()\n",
    "plt.show()"
   ]
  },
  {
   "cell_type": "markdown",
   "metadata": {},
   "source": [
    "*EN EL HISTOGRAMA PODEMOS OBSERVAR LOS DATOS DE Y Y EL MEAN DE Y. PODEMOS OBSERVAR COMO SE FORMA UNA CAMPANA DE GAUSS INDICANDONOS QUE LOS DATOS TIENDEN A AGRUPARSE EN UN VALOR CENTRAL, EN ESTE CASO 20*"
   ]
  },
  {
   "cell_type": "markdown",
   "metadata": {},
   "source": [
    "- **C) WHAT DO YOU SEE? COMPARE BOTH HISTOGRAMS. BRIEFLY EXPLAIN WHAT YOU THINK THAT HAPPEND.**"
   ]
  },
  {
   "cell_type": "markdown",
   "metadata": {},
   "source": [
    "*PODEMOS OBSERVAR AMBOS HISTOGRAMAS Y VER COMO EN EL PRIMER HISTOGRAMA TENEMOS LOS DATOS DE Y Y SU DENSIDAD. PODEMOS VER QUE LOS VALORES QUE TIENE LA VARIABLE Y SON PARA QUE EL PROMEDIO SEA 20. MIENTRAS QUE EN EL SEGUNDO HISTOGRAMA PODEMOS OBSERVAR COMO EL PROMEDIO TIENDE A TENER UN VALOR DE 20, ESTO LO PODEMOS OBSEVAR CON LA CAMPANA DE GAUSS QUE SE CREA*"
   ]
  },
  {
   "cell_type": "markdown",
   "metadata": {},
   "source": [
    "### **4.1 CHALLENGE**\n",
    "\n",
    "Collect real data for Microsoft (MSFT) stock and do a hypothesis testing to see whether the mean of monthly cc returns of Microsoft is greater than zero.\n",
    "\n",
    "You have to do the following:\n",
    "\n",
    "Run a t-test to compare whether the mean return of MSFT is greater than zero.\n",
    "\n",
    "To do a hypothesis test, we usually do the following steps:\n"
   ]
  },
  {
   "cell_type": "markdown",
   "metadata": {},
   "source": [
    "\n",
    "**DEFINE THE VARIABLE OF STUDY. In this case it will be the mean of MSFT cc returns**"
   ]
  },
  {
   "cell_type": "code",
   "execution_count": 75,
   "metadata": {},
   "outputs": [
    {
     "name": "stdout",
     "output_type": "stream",
     "text": [
      "[*********************100%***********************]  1 of 1 completed\n"
     ]
    },
    {
     "data": {
      "text/html": [
       "<div>\n",
       "<style scoped>\n",
       "    .dataframe tbody tr th:only-of-type {\n",
       "        vertical-align: middle;\n",
       "    }\n",
       "\n",
       "    .dataframe tbody tr th {\n",
       "        vertical-align: top;\n",
       "    }\n",
       "\n",
       "    .dataframe thead th {\n",
       "        text-align: right;\n",
       "    }\n",
       "</style>\n",
       "<table border=\"1\" class=\"dataframe\">\n",
       "  <thead>\n",
       "    <tr style=\"text-align: right;\">\n",
       "      <th></th>\n",
       "      <th>Open</th>\n",
       "      <th>High</th>\n",
       "      <th>Low</th>\n",
       "      <th>Close</th>\n",
       "      <th>Adj Close</th>\n",
       "      <th>Volume</th>\n",
       "    </tr>\n",
       "    <tr>\n",
       "      <th>Date</th>\n",
       "      <th></th>\n",
       "      <th></th>\n",
       "      <th></th>\n",
       "      <th></th>\n",
       "      <th></th>\n",
       "      <th></th>\n",
       "    </tr>\n",
       "  </thead>\n",
       "  <tbody>\n",
       "    <tr>\n",
       "      <th>2017-01-03</th>\n",
       "      <td>62.790001</td>\n",
       "      <td>62.840000</td>\n",
       "      <td>62.130001</td>\n",
       "      <td>62.580002</td>\n",
       "      <td>57.254700</td>\n",
       "      <td>20694100</td>\n",
       "    </tr>\n",
       "    <tr>\n",
       "      <th>2017-01-04</th>\n",
       "      <td>62.480000</td>\n",
       "      <td>62.750000</td>\n",
       "      <td>62.119999</td>\n",
       "      <td>62.299999</td>\n",
       "      <td>56.998524</td>\n",
       "      <td>21340000</td>\n",
       "    </tr>\n",
       "    <tr>\n",
       "      <th>2017-01-05</th>\n",
       "      <td>62.189999</td>\n",
       "      <td>62.660000</td>\n",
       "      <td>62.029999</td>\n",
       "      <td>62.299999</td>\n",
       "      <td>56.998524</td>\n",
       "      <td>24876000</td>\n",
       "    </tr>\n",
       "    <tr>\n",
       "      <th>2017-01-06</th>\n",
       "      <td>62.299999</td>\n",
       "      <td>63.150002</td>\n",
       "      <td>62.040001</td>\n",
       "      <td>62.840000</td>\n",
       "      <td>57.492573</td>\n",
       "      <td>19922900</td>\n",
       "    </tr>\n",
       "    <tr>\n",
       "      <th>2017-01-09</th>\n",
       "      <td>62.759998</td>\n",
       "      <td>63.080002</td>\n",
       "      <td>62.540001</td>\n",
       "      <td>62.639999</td>\n",
       "      <td>57.309593</td>\n",
       "      <td>20382700</td>\n",
       "    </tr>\n",
       "  </tbody>\n",
       "</table>\n",
       "</div>"
      ],
      "text/plain": [
       "                 Open       High        Low      Close  Adj Close    Volume\n",
       "Date                                                                       \n",
       "2017-01-03  62.790001  62.840000  62.130001  62.580002  57.254700  20694100\n",
       "2017-01-04  62.480000  62.750000  62.119999  62.299999  56.998524  21340000\n",
       "2017-01-05  62.189999  62.660000  62.029999  62.299999  56.998524  24876000\n",
       "2017-01-06  62.299999  63.150002  62.040001  62.840000  57.492573  19922900\n",
       "2017-01-09  62.759998  63.080002  62.540001  62.639999  57.309593  20382700"
      ]
     },
     "execution_count": 75,
     "metadata": {},
     "output_type": "execute_result"
    }
   ],
   "source": [
    "import numpy as np\n",
    "import pandas as pd\n",
    "import matplotlib\n",
    "import matplotlib.pyplot as plt\n",
    "import yfinance as yf\n",
    "\n",
    "MSFT = yf.download(tickers=\"MSFT\", start=\"2017-01-01\",interval=\"1d\")\n",
    "MSFT.head()"
   ]
  },
  {
   "cell_type": "markdown",
   "metadata": {},
   "source": [
    "**WRITE THE NULL AND THE ALTERNATIVE HYPOTHESIS.**"
   ]
  },
  {
   "cell_type": "code",
   "execution_count": 79,
   "metadata": {},
   "outputs": [
    {
     "name": "stdout",
     "output_type": "stream",
     "text": [
      "MEAN:  0.0010298322071570806 \n",
      "STD:  0.0181698714078041\n"
     ]
    },
    {
     "data": {
      "image/png": "[encoded data removed]",
      "text/plain": [
       "<Figure size 640x480 with 1 Axes>"
      ]
     },
     "metadata": {},
     "output_type": "display_data"
    }
   ],
   "source": [
    "#H0: The Null Hypothesis\n",
    "MSFT['r'] = np.log(MSFT['Adj Close']) - np.log(MSFT['Adj Close'].shift(1))\n",
    "plt.hist(MSFT['r'], bins=20)\n",
    "\n",
    "\n",
    "mean = MSFT['r'].mean()\n",
    "std = MSFT['r'].std()\n",
    "\n",
    "print(\"MEAN: \", mean, \"\\nSTD: \", std)\n",
    "\n",
    "plt.show()"
   ]
  },
  {
   "cell_type": "markdown",
   "metadata": {},
   "source": [
    "**CALCULATE THE STANDARD ERROR, WHICH IS THE STANDARD DEVIATION OF THE VARIABLE OF STUDY.**"
   ]
  },
  {
   "cell_type": "code",
   "execution_count": 80,
   "metadata": {},
   "outputs": [
    {
     "data": {
      "text/plain": [
       "0.0004451581769513898"
      ]
     },
     "execution_count": 80,
     "metadata": {},
     "output_type": "execute_result"
    }
   ],
   "source": [
    "std_grouped = std/np.sqrt(MSFT['r'].count())\n",
    "std_grouped"
   ]
  },
  {
   "cell_type": "markdown",
   "metadata": {},
   "source": [
    "**CALCULATE THE t-statistic (t-value). EXPLAIN/INTERPRET THE t-statistic.**"
   ]
  },
  {
   "cell_type": "code",
   "execution_count": 83,
   "metadata": {},
   "outputs": [
    {
     "name": "stdout",
     "output_type": "stream",
     "text": [
      "T-Statistic:  2.3134073695102217\n"
     ]
    }
   ],
   "source": [
    "t_statistic = (mean-0) / std_grouped\n",
    "print(\"T-Statistic: \", t_statistic)"
   ]
  },
  {
   "cell_type": "markdown",
   "metadata": {},
   "source": [
    "**CALCULATE THE 95% CONFIDENCE INTERVAL OF THE SAMPLE MEAN**"
   ]
  },
  {
   "cell_type": "code",
   "execution_count": 84,
   "metadata": {},
   "outputs": [
    {
     "name": "stdout",
     "output_type": "stream",
     "text": [
      "MIN T:  0.00013951585325430098 \n",
      "MAX T:  0.0019201485610598602\n"
     ]
    }
   ],
   "source": [
    "min_t = mean - (2 * std_grouped)\n",
    "max_t = mean + (2 * std_grouped)\n",
    "print(\"MIN T: \", min_t,\"\\nMAX T: \", max_t)"
   ]
  },
  {
   "cell_type": "markdown",
   "metadata": {},
   "source": [
    "**WRITE YOUR CONCLUSION OF THE t-TEST**"
   ]
  }
 ],
 "metadata": {
  "kernelspec": {
   "display_name": "Python 3",
   "language": "python",
   "name": "python3"
  },
  "language_info": {
   "codemirror_mode": {
    "name": "ipython",
    "version": 3
   },
   "file_extension": ".py",
   "mimetype": "text/x-python",
   "name": "python",
   "nbconvert_exporter": "python",
   "pygments_lexer": "ipython3",
   "version": "3.9.6"
  },
  "orig_nbformat": 4
 },
 "nbformat": 4,
 "nbformat_minor": 2
}
